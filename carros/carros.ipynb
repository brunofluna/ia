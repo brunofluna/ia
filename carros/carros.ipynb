{
 "cells": [
  {
   "cell_type": "markdown",
   "id": "f0ff92c1",
   "metadata": {},
   "source": [
    "# dummys\n",
    "# one hot encoding\n"
   ]
  },
  {
   "cell_type": "code",
   "execution_count": 1,
   "id": "eafd290d",
   "metadata": {},
   "outputs": [],
   "source": [
    "import pandas as pd\n",
    "\n",
    "pd.set_option('display.max_columns', None)\n",
    "pd.set_option('display.max_rows', None)\n",
    "\n",
    "df = pd.read_excel('./dados.xlsx')\n"
   ]
  },
  {
   "cell_type": "code",
   "execution_count": 2,
   "id": "60d87f4b",
   "metadata": {},
   "outputs": [
    {
     "data": {
      "text/html": [
       "<div>\n",
       "<style scoped>\n",
       "    .dataframe tbody tr th:only-of-type {\n",
       "        vertical-align: middle;\n",
       "    }\n",
       "\n",
       "    .dataframe tbody tr th {\n",
       "        vertical-align: top;\n",
       "    }\n",
       "\n",
       "    .dataframe thead th {\n",
       "        text-align: right;\n",
       "    }\n",
       "</style>\n",
       "<table border=\"1\" class=\"dataframe\">\n",
       "  <thead>\n",
       "    <tr style=\"text-align: right;\">\n",
       "      <th></th>\n",
       "      <th>MODELO</th>\n",
       "      <th>KM-LITRO</th>\n",
       "      <th>CILINDROS</th>\n",
       "      <th>PESO(KG)</th>\n",
       "      <th>CAVALOS</th>\n",
       "      <th>TRANSMISSAO</th>\n",
       "      <th>PAIS</th>\n",
       "    </tr>\n",
       "  </thead>\n",
       "  <tbody>\n",
       "    <tr>\n",
       "      <th>0</th>\n",
       "      <td>LABORGUINI</td>\n",
       "      <td>3.0</td>\n",
       "      <td>12</td>\n",
       "      <td>1200</td>\n",
       "      <td>700</td>\n",
       "      <td>AUTOMATICO</td>\n",
       "      <td>BRASIL</td>\n",
       "    </tr>\n",
       "    <tr>\n",
       "      <th>1</th>\n",
       "      <td>LABORGUINI</td>\n",
       "      <td>3.0</td>\n",
       "      <td>12</td>\n",
       "      <td>1200</td>\n",
       "      <td>700</td>\n",
       "      <td>AUTOMATICO</td>\n",
       "      <td>EUA</td>\n",
       "    </tr>\n",
       "    <tr>\n",
       "      <th>2</th>\n",
       "      <td>LABORGUINI</td>\n",
       "      <td>3.0</td>\n",
       "      <td>12</td>\n",
       "      <td>1200</td>\n",
       "      <td>700</td>\n",
       "      <td>AUTOMATICO</td>\n",
       "      <td>ESPANHA</td>\n",
       "    </tr>\n",
       "    <tr>\n",
       "      <th>3</th>\n",
       "      <td>FERRARI</td>\n",
       "      <td>3.0</td>\n",
       "      <td>12</td>\n",
       "      <td>1400</td>\n",
       "      <td>640</td>\n",
       "      <td>AUTOMATICO</td>\n",
       "      <td>CANADA</td>\n",
       "    </tr>\n",
       "    <tr>\n",
       "      <th>4</th>\n",
       "      <td>ASTON MARTIN</td>\n",
       "      <td>3.5</td>\n",
       "      <td>10</td>\n",
       "      <td>1600</td>\n",
       "      <td>620</td>\n",
       "      <td>AUTOMATICO</td>\n",
       "      <td>INGLATERRA</td>\n",
       "    </tr>\n",
       "  </tbody>\n",
       "</table>\n",
       "</div>"
      ],
      "text/plain": [
       "         MODELO  KM-LITRO  CILINDROS  PESO(KG)  CAVALOS TRANSMISSAO  \\\n",
       "0    LABORGUINI       3.0         12      1200      700  AUTOMATICO   \n",
       "1    LABORGUINI       3.0         12      1200      700  AUTOMATICO   \n",
       "2    LABORGUINI       3.0         12      1200      700  AUTOMATICO   \n",
       "3       FERRARI       3.0         12      1400      640  AUTOMATICO   \n",
       "4  ASTON MARTIN       3.5         10      1600      620  AUTOMATICO   \n",
       "\n",
       "         PAIS  \n",
       "0      BRASIL  \n",
       "1         EUA  \n",
       "2     ESPANHA  \n",
       "3      CANADA  \n",
       "4  INGLATERRA  "
      ]
     },
     "execution_count": 2,
     "metadata": {},
     "output_type": "execute_result"
    }
   ],
   "source": [
    "df.head()\n"
   ]
  },
  {
   "cell_type": "code",
   "execution_count": 3,
   "id": "dde00978",
   "metadata": {},
   "outputs": [
    {
     "name": "stdout",
     "output_type": "stream",
     "text": [
      "<class 'pandas.core.frame.DataFrame'>\n",
      "RangeIndex: 986 entries, 0 to 985\n",
      "Data columns (total 7 columns):\n",
      " #   Column       Non-Null Count  Dtype  \n",
      "---  ------       --------------  -----  \n",
      " 0   MODELO       986 non-null    object \n",
      " 1   KM-LITRO     984 non-null    float64\n",
      " 2   CILINDROS    986 non-null    int64  \n",
      " 3   PESO(KG)     986 non-null    int64  \n",
      " 4   CAVALOS      986 non-null    int64  \n",
      " 5   TRANSMISSAO  986 non-null    object \n",
      " 6   PAIS         986 non-null    object \n",
      "dtypes: float64(1), int64(3), object(3)\n",
      "memory usage: 54.1+ KB\n"
     ]
    }
   ],
   "source": [
    "df.info()"
   ]
  },
  {
   "cell_type": "code",
   "execution_count": 4,
   "id": "982f7115",
   "metadata": {},
   "outputs": [
    {
     "data": {
      "text/html": [
       "<div>\n",
       "<style scoped>\n",
       "    .dataframe tbody tr th:only-of-type {\n",
       "        vertical-align: middle;\n",
       "    }\n",
       "\n",
       "    .dataframe tbody tr th {\n",
       "        vertical-align: top;\n",
       "    }\n",
       "\n",
       "    .dataframe thead th {\n",
       "        text-align: right;\n",
       "    }\n",
       "</style>\n",
       "<table border=\"1\" class=\"dataframe\">\n",
       "  <thead>\n",
       "    <tr style=\"text-align: right;\">\n",
       "      <th></th>\n",
       "      <th>KM-LITRO</th>\n",
       "      <th>CILINDROS</th>\n",
       "      <th>PESO(KG)</th>\n",
       "      <th>CAVALOS</th>\n",
       "    </tr>\n",
       "  </thead>\n",
       "  <tbody>\n",
       "    <tr>\n",
       "      <th>count</th>\n",
       "      <td>984.000000</td>\n",
       "      <td>986.000000</td>\n",
       "      <td>986.000000</td>\n",
       "      <td>986.000000</td>\n",
       "    </tr>\n",
       "    <tr>\n",
       "      <th>mean</th>\n",
       "      <td>8.209553</td>\n",
       "      <td>6.115619</td>\n",
       "      <td>1959.432049</td>\n",
       "      <td>262.622718</td>\n",
       "    </tr>\n",
       "    <tr>\n",
       "      <th>std</th>\n",
       "      <td>3.718411</td>\n",
       "      <td>2.764683</td>\n",
       "      <td>459.769620</td>\n",
       "      <td>209.544669</td>\n",
       "    </tr>\n",
       "    <tr>\n",
       "      <th>min</th>\n",
       "      <td>3.000000</td>\n",
       "      <td>3.000000</td>\n",
       "      <td>1200.000000</td>\n",
       "      <td>116.000000</td>\n",
       "    </tr>\n",
       "    <tr>\n",
       "      <th>25%</th>\n",
       "      <td>4.500000</td>\n",
       "      <td>4.000000</td>\n",
       "      <td>1700.000000</td>\n",
       "      <td>118.000000</td>\n",
       "    </tr>\n",
       "    <tr>\n",
       "      <th>50%</th>\n",
       "      <td>8.000000</td>\n",
       "      <td>4.000000</td>\n",
       "      <td>1700.000000</td>\n",
       "      <td>118.000000</td>\n",
       "    </tr>\n",
       "    <tr>\n",
       "      <th>75%</th>\n",
       "      <td>11.000000</td>\n",
       "      <td>8.000000</td>\n",
       "      <td>2300.000000</td>\n",
       "      <td>340.000000</td>\n",
       "    </tr>\n",
       "    <tr>\n",
       "      <th>max</th>\n",
       "      <td>14.000000</td>\n",
       "      <td>12.000000</td>\n",
       "      <td>3000.000000</td>\n",
       "      <td>1800.000000</td>\n",
       "    </tr>\n",
       "  </tbody>\n",
       "</table>\n",
       "</div>"
      ],
      "text/plain": [
       "         KM-LITRO   CILINDROS     PESO(KG)      CAVALOS\n",
       "count  984.000000  986.000000   986.000000   986.000000\n",
       "mean     8.209553    6.115619  1959.432049   262.622718\n",
       "std      3.718411    2.764683   459.769620   209.544669\n",
       "min      3.000000    3.000000  1200.000000   116.000000\n",
       "25%      4.500000    4.000000  1700.000000   118.000000\n",
       "50%      8.000000    4.000000  1700.000000   118.000000\n",
       "75%     11.000000    8.000000  2300.000000   340.000000\n",
       "max     14.000000   12.000000  3000.000000  1800.000000"
      ]
     },
     "execution_count": 4,
     "metadata": {},
     "output_type": "execute_result"
    }
   ],
   "source": [
    "df.describe()"
   ]
  },
  {
   "cell_type": "code",
   "execution_count": 5,
   "id": "db28a742",
   "metadata": {},
   "outputs": [
    {
     "data": {
      "text/plain": [
       "PAIS\n",
       "BRASIL        99\n",
       "EUA           99\n",
       "ESPANHA       99\n",
       "CANADA        99\n",
       "INGLATERRA    99\n",
       "ALEMANHA      99\n",
       "AUSTRALIA     98\n",
       "NORUEGA       98\n",
       "BELGICA       98\n",
       "HOLANDA       98\n",
       "Name: count, dtype: int64"
      ]
     },
     "execution_count": 5,
     "metadata": {},
     "output_type": "execute_result"
    }
   ],
   "source": [
    "df['PAIS'].value_counts()\n"
   ]
  },
  {
   "cell_type": "code",
   "execution_count": 6,
   "id": "859d4195",
   "metadata": {},
   "outputs": [
    {
     "data": {
      "text/plain": [
       "TRANSMISSAO\n",
       "AUTOMATICO    536\n",
       "MANUAL        450\n",
       "dtype: int64"
      ]
     },
     "execution_count": 6,
     "metadata": {},
     "output_type": "execute_result"
    }
   ],
   "source": [
    "df.groupby('TRANSMISSAO').size()"
   ]
  },
  {
   "cell_type": "code",
   "execution_count": 7,
   "id": "fed39d6a",
   "metadata": {},
   "outputs": [
    {
     "data": {
      "text/plain": [
       "MODELO\n",
       "ASTON MARTIN     66\n",
       "BMW X1           30\n",
       "BMW X5           36\n",
       "COROLLA          36\n",
       "CORSA            42\n",
       "CRETA            36\n",
       "FERRARI          54\n",
       "GOL              24\n",
       "HB20             30\n",
       "HONDA FIT        66\n",
       "JEEP COMPASS     36\n",
       "JEEP RENEGADE    24\n",
       "LABORGUINI       50\n",
       "MERCEDES SL80    66\n",
       "MOBI             66\n",
       "PAJERO           36\n",
       "PALIO            66\n",
       "PARATI           24\n",
       "PASSAT           66\n",
       "SAVEIRO          42\n",
       "UNO              66\n",
       "VECTRA           24\n",
       "dtype: int64"
      ]
     },
     "execution_count": 7,
     "metadata": {},
     "output_type": "execute_result"
    }
   ],
   "source": [
    "df.groupby('MODELO').size()"
   ]
  },
  {
   "cell_type": "code",
   "execution_count": 8,
   "id": "f36fc6f2",
   "metadata": {},
   "outputs": [],
   "source": [
    "df_dummy = pd.get_dummies(df)\n",
    "\n",
    "df_transmissao = pd.get_dummies(df['TRANSMISSAO'])\n"
   ]
  },
  {
   "cell_type": "code",
   "execution_count": 9,
   "id": "289c2415",
   "metadata": {},
   "outputs": [
    {
     "data": {
      "text/html": [
       "<div>\n",
       "<style scoped>\n",
       "    .dataframe tbody tr th:only-of-type {\n",
       "        vertical-align: middle;\n",
       "    }\n",
       "\n",
       "    .dataframe tbody tr th {\n",
       "        vertical-align: top;\n",
       "    }\n",
       "\n",
       "    .dataframe thead th {\n",
       "        text-align: right;\n",
       "    }\n",
       "</style>\n",
       "<table border=\"1\" class=\"dataframe\">\n",
       "  <thead>\n",
       "    <tr style=\"text-align: right;\">\n",
       "      <th></th>\n",
       "      <th>MODELO</th>\n",
       "      <th>KM-LITRO</th>\n",
       "      <th>CILINDROS</th>\n",
       "      <th>PESO(KG)</th>\n",
       "      <th>CAVALOS</th>\n",
       "      <th>TRANSMISSAO</th>\n",
       "      <th>PAIS</th>\n",
       "      <th>AUTOMATICO</th>\n",
       "      <th>MANUAL</th>\n",
       "    </tr>\n",
       "  </thead>\n",
       "  <tbody>\n",
       "    <tr>\n",
       "      <th>0</th>\n",
       "      <td>LABORGUINI</td>\n",
       "      <td>3.0</td>\n",
       "      <td>12</td>\n",
       "      <td>1200</td>\n",
       "      <td>700</td>\n",
       "      <td>AUTOMATICO</td>\n",
       "      <td>BRASIL</td>\n",
       "      <td>True</td>\n",
       "      <td>False</td>\n",
       "    </tr>\n",
       "    <tr>\n",
       "      <th>1</th>\n",
       "      <td>LABORGUINI</td>\n",
       "      <td>3.0</td>\n",
       "      <td>12</td>\n",
       "      <td>1200</td>\n",
       "      <td>700</td>\n",
       "      <td>AUTOMATICO</td>\n",
       "      <td>EUA</td>\n",
       "      <td>True</td>\n",
       "      <td>False</td>\n",
       "    </tr>\n",
       "    <tr>\n",
       "      <th>2</th>\n",
       "      <td>LABORGUINI</td>\n",
       "      <td>3.0</td>\n",
       "      <td>12</td>\n",
       "      <td>1200</td>\n",
       "      <td>700</td>\n",
       "      <td>AUTOMATICO</td>\n",
       "      <td>ESPANHA</td>\n",
       "      <td>True</td>\n",
       "      <td>False</td>\n",
       "    </tr>\n",
       "    <tr>\n",
       "      <th>3</th>\n",
       "      <td>FERRARI</td>\n",
       "      <td>3.0</td>\n",
       "      <td>12</td>\n",
       "      <td>1400</td>\n",
       "      <td>640</td>\n",
       "      <td>AUTOMATICO</td>\n",
       "      <td>CANADA</td>\n",
       "      <td>True</td>\n",
       "      <td>False</td>\n",
       "    </tr>\n",
       "    <tr>\n",
       "      <th>4</th>\n",
       "      <td>ASTON MARTIN</td>\n",
       "      <td>3.5</td>\n",
       "      <td>10</td>\n",
       "      <td>1600</td>\n",
       "      <td>620</td>\n",
       "      <td>AUTOMATICO</td>\n",
       "      <td>INGLATERRA</td>\n",
       "      <td>True</td>\n",
       "      <td>False</td>\n",
       "    </tr>\n",
       "  </tbody>\n",
       "</table>\n",
       "</div>"
      ],
      "text/plain": [
       "         MODELO  KM-LITRO  CILINDROS  PESO(KG)  CAVALOS TRANSMISSAO  \\\n",
       "0    LABORGUINI       3.0         12      1200      700  AUTOMATICO   \n",
       "1    LABORGUINI       3.0         12      1200      700  AUTOMATICO   \n",
       "2    LABORGUINI       3.0         12      1200      700  AUTOMATICO   \n",
       "3       FERRARI       3.0         12      1400      640  AUTOMATICO   \n",
       "4  ASTON MARTIN       3.5         10      1600      620  AUTOMATICO   \n",
       "\n",
       "         PAIS  AUTOMATICO  MANUAL  \n",
       "0      BRASIL        True   False  \n",
       "1         EUA        True   False  \n",
       "2     ESPANHA        True   False  \n",
       "3      CANADA        True   False  \n",
       "4  INGLATERRA        True   False  "
      ]
     },
     "execution_count": 9,
     "metadata": {},
     "output_type": "execute_result"
    }
   ],
   "source": [
    "df_dummy_transmissao = pd.get_dummies(df['TRANSMISSAO'])\n",
    "\n",
    "df_completo = pd.concat([df, df_dummy_transmissao], axis=1)\n",
    "\n",
    "df_completo.head()"
   ]
  },
  {
   "cell_type": "markdown",
   "id": "9260e22b",
   "metadata": {},
   "source": [
    "# Metodo One Hot Encoding\n"
   ]
  },
  {
   "cell_type": "code",
   "execution_count": 10,
   "id": "1b2a9938",
   "metadata": {},
   "outputs": [
    {
     "name": "stdout",
     "output_type": "stream",
     "text": [
      "Requirement already satisfied: scikit-learn in c:\\brunopy\\.venv\\lib\\site-packages (1.6.1)\n",
      "Requirement already satisfied: numpy>=1.19.5 in c:\\brunopy\\.venv\\lib\\site-packages (from scikit-learn) (2.2.5)\n",
      "Requirement already satisfied: scipy>=1.6.0 in c:\\brunopy\\.venv\\lib\\site-packages (from scikit-learn) (1.15.3)\n",
      "Collecting joblib>=1.2.0 (from scikit-learn)\n",
      "  Using cached joblib-1.5.0-py3-none-any.whl.metadata (5.6 kB)\n",
      "Requirement already satisfied: threadpoolctl>=3.1.0 in c:\\brunopy\\.venv\\lib\\site-packages (from scikit-learn) (3.6.0)\n",
      "Using cached joblib-1.5.0-py3-none-any.whl (307 kB)\n",
      "Installing collected packages: joblib\n",
      "  Attempting uninstall: joblib\n",
      "    Found existing installation: joblib 1.1.1\n",
      "    Uninstalling joblib-1.1.1:\n",
      "      Successfully uninstalled joblib-1.1.1\n",
      "Successfully installed joblib-1.5.0\n"
     ]
    },
    {
     "name": "stderr",
     "output_type": "stream",
     "text": [
      "ERROR: pip's dependency resolver does not currently take into account all the packages that are installed. This behaviour is the source of the following dependency conflicts.\n",
      "pandas-profiling 3.2.0 requires joblib~=1.1.0, but you have joblib 1.5.0 which is incompatible.\n",
      "\n",
      "[notice] A new release of pip is available: 25.0.1 -> 25.1.1\n",
      "[notice] To update, run: python.exe -m pip install --upgrade pip\n"
     ]
    }
   ],
   "source": [
    "! pip install scikit-learn\n"
   ]
  },
  {
   "cell_type": "code",
   "execution_count": 11,
   "id": "bcb94420",
   "metadata": {},
   "outputs": [
    {
     "data": {
      "text/plain": [
       "(986, 7)"
      ]
     },
     "execution_count": 11,
     "metadata": {},
     "output_type": "execute_result"
    }
   ],
   "source": [
    "df = pd.read_excel('./dados.xlsx')\n",
    "\n",
    "df.shape\n"
   ]
  },
  {
   "cell_type": "code",
   "execution_count": 12,
   "id": "79af0719",
   "metadata": {},
   "outputs": [
    {
     "name": "stdout",
     "output_type": "stream",
     "text": [
      "<class 'pandas.core.frame.DataFrame'>\n",
      "RangeIndex: 986 entries, 0 to 985\n",
      "Data columns (total 7 columns):\n",
      " #   Column       Non-Null Count  Dtype  \n",
      "---  ------       --------------  -----  \n",
      " 0   MODELO       986 non-null    object \n",
      " 1   KM-LITRO     984 non-null    float64\n",
      " 2   CILINDROS    986 non-null    int64  \n",
      " 3   PESO(KG)     986 non-null    int64  \n",
      " 4   CAVALOS      986 non-null    int64  \n",
      " 5   TRANSMISSAO  986 non-null    object \n",
      " 6   PAIS         986 non-null    object \n",
      "dtypes: float64(1), int64(3), object(3)\n",
      "memory usage: 54.1+ KB\n"
     ]
    }
   ],
   "source": [
    "df.info()\n"
   ]
  },
  {
   "cell_type": "code",
   "execution_count": 13,
   "id": "a185f4d4",
   "metadata": {},
   "outputs": [
    {
     "data": {
      "text/html": [
       "<div>\n",
       "<style scoped>\n",
       "    .dataframe tbody tr th:only-of-type {\n",
       "        vertical-align: middle;\n",
       "    }\n",
       "\n",
       "    .dataframe tbody tr th {\n",
       "        vertical-align: top;\n",
       "    }\n",
       "\n",
       "    .dataframe thead th {\n",
       "        text-align: right;\n",
       "    }\n",
       "</style>\n",
       "<table border=\"1\" class=\"dataframe\">\n",
       "  <thead>\n",
       "    <tr style=\"text-align: right;\">\n",
       "      <th></th>\n",
       "      <th>MODELO</th>\n",
       "      <th>KM-LITRO</th>\n",
       "      <th>CILINDROS</th>\n",
       "      <th>PESO(KG)</th>\n",
       "      <th>CAVALOS</th>\n",
       "      <th>TRANSMISSAO</th>\n",
       "      <th>PAIS</th>\n",
       "    </tr>\n",
       "  </thead>\n",
       "  <tbody>\n",
       "    <tr>\n",
       "      <th>0</th>\n",
       "      <td>LABORGUINI</td>\n",
       "      <td>3.0</td>\n",
       "      <td>12</td>\n",
       "      <td>1200</td>\n",
       "      <td>700</td>\n",
       "      <td>AUTOMATICO</td>\n",
       "      <td>BRASIL</td>\n",
       "    </tr>\n",
       "    <tr>\n",
       "      <th>1</th>\n",
       "      <td>LABORGUINI</td>\n",
       "      <td>3.0</td>\n",
       "      <td>12</td>\n",
       "      <td>1200</td>\n",
       "      <td>700</td>\n",
       "      <td>AUTOMATICO</td>\n",
       "      <td>EUA</td>\n",
       "    </tr>\n",
       "    <tr>\n",
       "      <th>2</th>\n",
       "      <td>LABORGUINI</td>\n",
       "      <td>3.0</td>\n",
       "      <td>12</td>\n",
       "      <td>1200</td>\n",
       "      <td>700</td>\n",
       "      <td>AUTOMATICO</td>\n",
       "      <td>ESPANHA</td>\n",
       "    </tr>\n",
       "    <tr>\n",
       "      <th>3</th>\n",
       "      <td>FERRARI</td>\n",
       "      <td>3.0</td>\n",
       "      <td>12</td>\n",
       "      <td>1400</td>\n",
       "      <td>640</td>\n",
       "      <td>AUTOMATICO</td>\n",
       "      <td>CANADA</td>\n",
       "    </tr>\n",
       "    <tr>\n",
       "      <th>4</th>\n",
       "      <td>ASTON MARTIN</td>\n",
       "      <td>3.5</td>\n",
       "      <td>10</td>\n",
       "      <td>1600</td>\n",
       "      <td>620</td>\n",
       "      <td>AUTOMATICO</td>\n",
       "      <td>INGLATERRA</td>\n",
       "    </tr>\n",
       "  </tbody>\n",
       "</table>\n",
       "</div>"
      ],
      "text/plain": [
       "         MODELO  KM-LITRO  CILINDROS  PESO(KG)  CAVALOS TRANSMISSAO  \\\n",
       "0    LABORGUINI       3.0         12      1200      700  AUTOMATICO   \n",
       "1    LABORGUINI       3.0         12      1200      700  AUTOMATICO   \n",
       "2    LABORGUINI       3.0         12      1200      700  AUTOMATICO   \n",
       "3       FERRARI       3.0         12      1400      640  AUTOMATICO   \n",
       "4  ASTON MARTIN       3.5         10      1600      620  AUTOMATICO   \n",
       "\n",
       "         PAIS  \n",
       "0      BRASIL  \n",
       "1         EUA  \n",
       "2     ESPANHA  \n",
       "3      CANADA  \n",
       "4  INGLATERRA  "
      ]
     },
     "execution_count": 13,
     "metadata": {},
     "output_type": "execute_result"
    }
   ],
   "source": [
    "df.head()"
   ]
  },
  {
   "cell_type": "code",
   "execution_count": 14,
   "id": "e83be2ca",
   "metadata": {},
   "outputs": [],
   "source": [
    "from sklearn.preprocessing import LabelEncoder"
   ]
  },
  {
   "cell_type": "code",
   "execution_count": 15,
   "id": "44485b54",
   "metadata": {},
   "outputs": [],
   "source": [
    "lb = LabelEncoder()\n",
    "for serie in ['PAIS', 'MODELO', 'TRANSMISSAO']:\n",
    "    df[serie] = lb.fit_transform(df[serie])"
   ]
  },
  {
   "cell_type": "code",
   "execution_count": 16,
   "id": "8679f980",
   "metadata": {},
   "outputs": [
    {
     "name": "stdout",
     "output_type": "stream",
     "text": [
      "<class 'pandas.core.frame.DataFrame'>\n",
      "RangeIndex: 986 entries, 0 to 985\n",
      "Data columns (total 7 columns):\n",
      " #   Column       Non-Null Count  Dtype  \n",
      "---  ------       --------------  -----  \n",
      " 0   MODELO       986 non-null    int64  \n",
      " 1   KM-LITRO     984 non-null    float64\n",
      " 2   CILINDROS    986 non-null    int64  \n",
      " 3   PESO(KG)     986 non-null    int64  \n",
      " 4   CAVALOS      986 non-null    int64  \n",
      " 5   TRANSMISSAO  986 non-null    int64  \n",
      " 6   PAIS         986 non-null    int64  \n",
      "dtypes: float64(1), int64(6)\n",
      "memory usage: 54.1 KB\n"
     ]
    }
   ],
   "source": [
    "df.info()"
   ]
  },
  {
   "cell_type": "code",
   "execution_count": 17,
   "id": "c4fa6aff",
   "metadata": {},
   "outputs": [
    {
     "data": {
      "text/plain": [
       "PAIS\n",
       "3    99\n",
       "6    99\n",
       "5    99\n",
       "4    99\n",
       "8    99\n",
       "0    99\n",
       "1    98\n",
       "9    98\n",
       "2    98\n",
       "7    98\n",
       "Name: count, dtype: int64"
      ]
     },
     "execution_count": 17,
     "metadata": {},
     "output_type": "execute_result"
    }
   ],
   "source": [
    "df['PAIS'].value_counts()"
   ]
  },
  {
   "cell_type": "code",
   "execution_count": 18,
   "id": "2637a2cc",
   "metadata": {},
   "outputs": [
    {
     "data": {
      "text/plain": [
       "MODELO\n",
       "0     66\n",
       "1     30\n",
       "2     36\n",
       "3     36\n",
       "4     42\n",
       "5     36\n",
       "6     54\n",
       "7     24\n",
       "8     30\n",
       "9     66\n",
       "10    36\n",
       "11    24\n",
       "12    50\n",
       "13    66\n",
       "14    66\n",
       "15    36\n",
       "16    66\n",
       "17    24\n",
       "18    66\n",
       "19    42\n",
       "20    66\n",
       "21    24\n",
       "dtype: int64"
      ]
     },
     "execution_count": 18,
     "metadata": {},
     "output_type": "execute_result"
    }
   ],
   "source": [
    "df.groupby('MODELO').size()"
   ]
  },
  {
   "cell_type": "code",
   "execution_count": 19,
   "id": "fcdf4ac7",
   "metadata": {},
   "outputs": [
    {
     "name": "stdout",
     "output_type": "stream",
     "text": [
      "Legendas para PAIS:\n",
      "ALEMANHA -> 0\n",
      "AUSTRALIA -> 1\n",
      "BELGICA -> 2\n",
      "BRASIL -> 3\n",
      "CANADA -> 4\n",
      "ESPANHA -> 5\n",
      "EUA -> 6\n",
      "HOLANDA -> 7\n",
      "INGLATERRA -> 8\n",
      "NORUEGA -> 9\n",
      "Legendas para MODELO:\n",
      "ASTON MARTIN -> 0\n",
      "BMW X1 -> 1\n",
      "BMW X5 -> 2\n",
      "COROLLA -> 3\n",
      "CORSA -> 4\n",
      "CRETA -> 5\n",
      "FERRARI -> 6\n",
      "GOL -> 7\n",
      "HB20 -> 8\n",
      "HONDA FIT -> 9\n",
      "JEEP COMPASS -> 10\n",
      "JEEP RENEGADE -> 11\n",
      "LABORGUINI -> 12\n",
      "MERCEDES SL80 -> 13\n",
      "MOBI -> 14\n",
      "PAJERO -> 15\n",
      "PALIO -> 16\n",
      "PARATI -> 17\n",
      "PASSAT -> 18\n",
      "SAVEIRO -> 19\n",
      "UNO -> 20\n",
      "VECTRA -> 21\n",
      "Legendas para TRANSMISSAO:\n",
      "AUTOMATICO -> 0\n",
      "MANUAL -> 1\n"
     ]
    }
   ],
   "source": [
    "df_dados = pd.read_excel('./dados.xlsx')\n",
    "\n",
    "legendas = {}\n",
    "\n",
    "for var in ['PAIS', 'MODELO', 'TRANSMISSAO']:\n",
    "    lb = LabelEncoder()\n",
    "\n",
    "    dados_originais = df_dados[var].copy()\n",
    "    df_dados[var] = lb.fit_transform(dados_originais)\n",
    "\n",
    "    legenda_var = dict(zip(lb.classes_, lb.transform(lb.classes_)))\n",
    "    legendas[var] = legenda_var\n",
    "\n",
    "for var, mapa in legendas.items():\n",
    "    print(f'Legendas para {var}:')\n",
    "    for k, v in mapa.items():\n",
    "        print(f'{k} -> {v}')\n",
    "    \n"
   ]
  },
  {
   "cell_type": "code",
   "execution_count": 22,
   "id": "372a64cd",
   "metadata": {},
   "outputs": [
    {
     "name": "stderr",
     "output_type": "stream",
     "text": [
      "  WARNING: Failed to remove contents in a temporary directory 'C:\\Brunopy\\.venv\\Lib\\site-packages\\~umpy.libs'.\n",
      "  You can safely remove it manually.\n",
      "  WARNING: Failed to remove contents in a temporary directory 'C:\\Brunopy\\.venv\\Lib\\site-packages\\~umpy'.\n",
      "  You can safely remove it manually.\n",
      "ERROR: pip's dependency resolver does not currently take into account all the packages that are installed. This behaviour is the source of the following dependency conflicts.\n",
      "pandas-profiling 3.2.0 requires visions[type_image_path]==0.7.4, but you have visions 0.8.1 which is incompatible.\n",
      "scikit-learn 1.6.1 requires joblib>=1.2.0, but you have joblib 1.1.1 which is incompatible.\n",
      "\n",
      "[notice] A new release of pip is available: 25.0.1 -> 25.1.1\n",
      "[notice] To update, run: python.exe -m pip install --upgrade pip\n"
     ]
    }
   ],
   "source": [
    "! pip install ydata-profiling -q"
   ]
  },
  {
   "cell_type": "code",
   "execution_count": 21,
   "id": "66b3bd99",
   "metadata": {},
   "outputs": [
    {
     "name": "stderr",
     "output_type": "stream",
     "text": [
      "c:\\Brunopy\\.venv\\Lib\\site-packages\\tqdm\\auto.py:21: TqdmWarning: IProgress not found. Please update jupyter and ipywidgets. See https://ipywidgets.readthedocs.io/en/stable/user_install.html\n",
      "  from .autonotebook import tqdm as notebook_tqdm\n"
     ]
    },
    {
     "ename": "PydanticImportError",
     "evalue": "`BaseSettings` has been moved to the `pydantic-settings` package. See https://docs.pydantic.dev/2.11/migration/#basesettings-has-moved-to-pydantic-settings for more details.\n\nFor further information visit https://errors.pydantic.dev/2.11/u/import-error",
     "output_type": "error",
     "traceback": [
      "\u001b[31m---------------------------------------------------------------------------\u001b[39m",
      "\u001b[31mPydanticImportError\u001b[39m                       Traceback (most recent call last)",
      "\u001b[36mCell\u001b[39m\u001b[36m \u001b[39m\u001b[32mIn[21]\u001b[39m\u001b[32m, line 1\u001b[39m\n\u001b[32m----> \u001b[39m\u001b[32m1\u001b[39m \u001b[38;5;28;01mimport\u001b[39;00m\u001b[38;5;250m \u001b[39m\u001b[34;01mpandas_profiling\u001b[39;00m\u001b[38;5;250m \u001b[39m\u001b[38;5;28;01mas\u001b[39;00m\u001b[38;5;250m \u001b[39m\u001b[34;01mpp\u001b[39;00m\n\u001b[32m      2\u001b[39m \u001b[38;5;28;01mfrom\u001b[39;00m\u001b[38;5;250m \u001b[39m\u001b[34;01mpandas_profiling\u001b[39;00m\u001b[38;5;250m \u001b[39m\u001b[38;5;28;01mimport\u001b[39;00m ProfileReport\n\u001b[32m      4\u001b[39m df2 = pd.read_excel(\u001b[33m'\u001b[39m\u001b[33mdados.xlsx\u001b[39m\u001b[33m'\u001b[39m)\n",
      "\u001b[36mFile \u001b[39m\u001b[32mc:\\Brunopy\\.venv\\Lib\\site-packages\\pandas_profiling\\__init__.py:6\u001b[39m\n\u001b[32m      1\u001b[39m \u001b[33;03m\"\"\"Main module of pandas-profiling.\u001b[39;00m\n\u001b[32m      2\u001b[39m \n\u001b[32m      3\u001b[39m \u001b[33;03m.. include:: ../../README.md\u001b[39;00m\n\u001b[32m      4\u001b[39m \u001b[33;03m\"\"\"\u001b[39;00m\n\u001b[32m----> \u001b[39m\u001b[32m6\u001b[39m \u001b[38;5;28;01mfrom\u001b[39;00m\u001b[38;5;250m \u001b[39m\u001b[34;01mpandas_profiling\u001b[39;00m\u001b[34;01m.\u001b[39;00m\u001b[34;01mcontroller\u001b[39;00m\u001b[38;5;250m \u001b[39m\u001b[38;5;28;01mimport\u001b[39;00m pandas_decorator\n\u001b[32m      7\u001b[39m \u001b[38;5;28;01mfrom\u001b[39;00m\u001b[38;5;250m \u001b[39m\u001b[34;01mpandas_profiling\u001b[39;00m\u001b[34;01m.\u001b[39;00m\u001b[34;01mprofile_report\u001b[39;00m\u001b[38;5;250m \u001b[39m\u001b[38;5;28;01mimport\u001b[39;00m ProfileReport\n\u001b[32m      8\u001b[39m \u001b[38;5;28;01mfrom\u001b[39;00m\u001b[38;5;250m \u001b[39m\u001b[34;01mpandas_profiling\u001b[39;00m\u001b[34;01m.\u001b[39;00m\u001b[34;01mversion\u001b[39;00m\u001b[38;5;250m \u001b[39m\u001b[38;5;28;01mimport\u001b[39;00m __version__\n",
      "\u001b[36mFile \u001b[39m\u001b[32mc:\\Brunopy\\.venv\\Lib\\site-packages\\pandas_profiling\\controller\\pandas_decorator.py:4\u001b[39m\n\u001b[32m      1\u001b[39m \u001b[33;03m\"\"\"This file add the decorator on the DataFrame object.\"\"\"\u001b[39;00m\n\u001b[32m      2\u001b[39m \u001b[38;5;28;01mfrom\u001b[39;00m\u001b[38;5;250m \u001b[39m\u001b[34;01mpandas\u001b[39;00m\u001b[38;5;250m \u001b[39m\u001b[38;5;28;01mimport\u001b[39;00m DataFrame\n\u001b[32m----> \u001b[39m\u001b[32m4\u001b[39m \u001b[38;5;28;01mfrom\u001b[39;00m\u001b[38;5;250m \u001b[39m\u001b[34;01mpandas_profiling\u001b[39;00m\u001b[34;01m.\u001b[39;00m\u001b[34;01mprofile_report\u001b[39;00m\u001b[38;5;250m \u001b[39m\u001b[38;5;28;01mimport\u001b[39;00m ProfileReport\n\u001b[32m      7\u001b[39m \u001b[38;5;28;01mdef\u001b[39;00m\u001b[38;5;250m \u001b[39m\u001b[34mprofile_report\u001b[39m(df: DataFrame, **kwargs) -> ProfileReport:\n\u001b[32m      8\u001b[39m \u001b[38;5;250m    \u001b[39m\u001b[33;03m\"\"\"Profile a DataFrame.\u001b[39;00m\n\u001b[32m      9\u001b[39m \n\u001b[32m     10\u001b[39m \u001b[33;03m    Args:\u001b[39;00m\n\u001b[32m   (...)\u001b[39m\u001b[32m     15\u001b[39m \u001b[33;03m        A ProfileReport of the DataFrame.\u001b[39;00m\n\u001b[32m     16\u001b[39m \u001b[33;03m    \"\"\"\u001b[39;00m\n",
      "\u001b[36mFile \u001b[39m\u001b[32mc:\\Brunopy\\.venv\\Lib\\site-packages\\pandas_profiling\\profile_report.py:13\u001b[39m\n\u001b[32m     10\u001b[39m \u001b[38;5;28;01mfrom\u001b[39;00m\u001b[38;5;250m \u001b[39m\u001b[34;01mtqdm\u001b[39;00m\u001b[34;01m.\u001b[39;00m\u001b[34;01mauto\u001b[39;00m\u001b[38;5;250m \u001b[39m\u001b[38;5;28;01mimport\u001b[39;00m tqdm\n\u001b[32m     11\u001b[39m \u001b[38;5;28;01mfrom\u001b[39;00m\u001b[38;5;250m \u001b[39m\u001b[34;01mvisions\u001b[39;00m\u001b[38;5;250m \u001b[39m\u001b[38;5;28;01mimport\u001b[39;00m VisionsTypeset\n\u001b[32m---> \u001b[39m\u001b[32m13\u001b[39m \u001b[38;5;28;01mfrom\u001b[39;00m\u001b[38;5;250m \u001b[39m\u001b[34;01mpandas_profiling\u001b[39;00m\u001b[34;01m.\u001b[39;00m\u001b[34;01mconfig\u001b[39;00m\u001b[38;5;250m \u001b[39m\u001b[38;5;28;01mimport\u001b[39;00m Config, Settings\n\u001b[32m     14\u001b[39m \u001b[38;5;28;01mfrom\u001b[39;00m\u001b[38;5;250m \u001b[39m\u001b[34;01mpandas_profiling\u001b[39;00m\u001b[34;01m.\u001b[39;00m\u001b[34;01mexpectations_report\u001b[39;00m\u001b[38;5;250m \u001b[39m\u001b[38;5;28;01mimport\u001b[39;00m ExpectationsReport\n\u001b[32m     15\u001b[39m \u001b[38;5;28;01mfrom\u001b[39;00m\u001b[38;5;250m \u001b[39m\u001b[34;01mpandas_profiling\u001b[39;00m\u001b[34;01m.\u001b[39;00m\u001b[34;01mmodel\u001b[39;00m\u001b[34;01m.\u001b[39;00m\u001b[34;01malerts\u001b[39;00m\u001b[38;5;250m \u001b[39m\u001b[38;5;28;01mimport\u001b[39;00m AlertType\n",
      "\u001b[36mFile \u001b[39m\u001b[32mc:\\Brunopy\\.venv\\Lib\\site-packages\\pandas_profiling\\config.py:5\u001b[39m\n\u001b[32m      2\u001b[39m \u001b[38;5;28;01mfrom\u001b[39;00m\u001b[38;5;250m \u001b[39m\u001b[34;01menum\u001b[39;00m\u001b[38;5;250m \u001b[39m\u001b[38;5;28;01mimport\u001b[39;00m Enum\n\u001b[32m      3\u001b[39m \u001b[38;5;28;01mfrom\u001b[39;00m\u001b[38;5;250m \u001b[39m\u001b[34;01mtyping\u001b[39;00m\u001b[38;5;250m \u001b[39m\u001b[38;5;28;01mimport\u001b[39;00m Any, Dict, List, Optional\n\u001b[32m----> \u001b[39m\u001b[32m5\u001b[39m \u001b[38;5;28;01mfrom\u001b[39;00m\u001b[38;5;250m \u001b[39m\u001b[34;01mpydantic\u001b[39;00m\u001b[38;5;250m \u001b[39m\u001b[38;5;28;01mimport\u001b[39;00m BaseModel, BaseSettings, Field\n\u001b[32m      8\u001b[39m \u001b[38;5;28;01mdef\u001b[39;00m\u001b[38;5;250m \u001b[39m\u001b[34m_merge_dictionaries\u001b[39m(dict1: \u001b[38;5;28mdict\u001b[39m, dict2: \u001b[38;5;28mdict\u001b[39m) -> \u001b[38;5;28mdict\u001b[39m:\n\u001b[32m      9\u001b[39m \u001b[38;5;250m    \u001b[39m\u001b[33;03m\"\"\"\u001b[39;00m\n\u001b[32m     10\u001b[39m \u001b[33;03m    Recursive merge dictionaries.\u001b[39;00m\n\u001b[32m     11\u001b[39m \n\u001b[32m   (...)\u001b[39m\u001b[32m     14\u001b[39m \u001b[33;03m    :return: Merged dictionary\u001b[39;00m\n\u001b[32m     15\u001b[39m \u001b[33;03m    \"\"\"\u001b[39;00m\n",
      "\u001b[36mFile \u001b[39m\u001b[32mc:\\Brunopy\\.venv\\Lib\\site-packages\\pydantic\\__init__.py:426\u001b[39m, in \u001b[36m__getattr__\u001b[39m\u001b[34m(attr_name)\u001b[39m\n\u001b[32m    424\u001b[39m dynamic_attr = _dynamic_imports.get(attr_name)\n\u001b[32m    425\u001b[39m \u001b[38;5;28;01mif\u001b[39;00m dynamic_attr \u001b[38;5;129;01mis\u001b[39;00m \u001b[38;5;28;01mNone\u001b[39;00m:\n\u001b[32m--> \u001b[39m\u001b[32m426\u001b[39m     \u001b[38;5;28;01mreturn\u001b[39;00m \u001b[43m_getattr_migration\u001b[49m\u001b[43m(\u001b[49m\u001b[43mattr_name\u001b[49m\u001b[43m)\u001b[49m\n\u001b[32m    428\u001b[39m package, module_name = dynamic_attr\n\u001b[32m    430\u001b[39m \u001b[38;5;28;01mif\u001b[39;00m module_name == \u001b[33m'\u001b[39m\u001b[33m__module__\u001b[39m\u001b[33m'\u001b[39m:\n",
      "\u001b[36mFile \u001b[39m\u001b[32mc:\\Brunopy\\.venv\\Lib\\site-packages\\pydantic\\_migration.py:296\u001b[39m, in \u001b[36mgetattr_migration.<locals>.wrapper\u001b[39m\u001b[34m(name)\u001b[39m\n\u001b[32m    294\u001b[39m     \u001b[38;5;28;01mreturn\u001b[39;00m import_string(REDIRECT_TO_V1[import_path])\n\u001b[32m    295\u001b[39m \u001b[38;5;28;01mif\u001b[39;00m import_path == \u001b[33m'\u001b[39m\u001b[33mpydantic:BaseSettings\u001b[39m\u001b[33m'\u001b[39m:\n\u001b[32m--> \u001b[39m\u001b[32m296\u001b[39m     \u001b[38;5;28;01mraise\u001b[39;00m PydanticImportError(\n\u001b[32m    297\u001b[39m         \u001b[33m'\u001b[39m\u001b[33m`BaseSettings` has been moved to the `pydantic-settings` package. \u001b[39m\u001b[33m'\u001b[39m\n\u001b[32m    298\u001b[39m         \u001b[33mf\u001b[39m\u001b[33m'\u001b[39m\u001b[33mSee https://docs.pydantic.dev/\u001b[39m\u001b[38;5;132;01m{\u001b[39;00mversion_short()\u001b[38;5;132;01m}\u001b[39;00m\u001b[33m/migration/#basesettings-has-moved-to-pydantic-settings \u001b[39m\u001b[33m'\u001b[39m\n\u001b[32m    299\u001b[39m         \u001b[33m'\u001b[39m\u001b[33mfor more details.\u001b[39m\u001b[33m'\u001b[39m\n\u001b[32m    300\u001b[39m     )\n\u001b[32m    301\u001b[39m \u001b[38;5;28;01mif\u001b[39;00m import_path \u001b[38;5;129;01min\u001b[39;00m REMOVED_IN_V2:\n\u001b[32m    302\u001b[39m     \u001b[38;5;28;01mraise\u001b[39;00m PydanticImportError(\u001b[33mf\u001b[39m\u001b[33m'\u001b[39m\u001b[33m`\u001b[39m\u001b[38;5;132;01m{\u001b[39;00mimport_path\u001b[38;5;132;01m}\u001b[39;00m\u001b[33m` has been removed in V2.\u001b[39m\u001b[33m'\u001b[39m)\n",
      "\u001b[31mPydanticImportError\u001b[39m: `BaseSettings` has been moved to the `pydantic-settings` package. See https://docs.pydantic.dev/2.11/migration/#basesettings-has-moved-to-pydantic-settings for more details.\n\nFor further information visit https://errors.pydantic.dev/2.11/u/import-error"
     ]
    }
   ],
   "source": [
    "import pandas_profiling as pp\n",
    "from pandas_profiling import ProfileReport\n",
    "\n",
    "df2 = pd.read_excel('dados.xlsx')\n",
    "\n",
    "doc = ProfileReport()\n",
    "\n",
    "doc.to_file(output='analise.html')\n"
   ]
  },
  {
   "cell_type": "code",
   "execution_count": null,
   "id": "f46dd5a0",
   "metadata": {},
   "outputs": [],
   "source": []
  }
 ],
 "metadata": {
  "kernelspec": {
   "display_name": ".venv (3.12.10)",
   "language": "python",
   "name": "python3"
  },
  "language_info": {
   "codemirror_mode": {
    "name": "ipython",
    "version": 3
   },
   "file_extension": ".py",
   "mimetype": "text/x-python",
   "name": "python",
   "nbconvert_exporter": "python",
   "pygments_lexer": "ipython3",
   "version": "3.12.10"
  }
 },
 "nbformat": 4,
 "nbformat_minor": 5
}
