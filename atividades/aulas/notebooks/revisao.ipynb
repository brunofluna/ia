{
 "cells": [
  {
   "cell_type": "markdown",
   "id": "6c009cd4",
   "metadata": {},
   "source": [
    "Revisão Notebook\n",
    "\n",
    "\n",
    "\n"
   ]
  },
  {
   "cell_type": "code",
   "execution_count": 2,
   "id": "affc516c",
   "metadata": {},
   "outputs": [
    {
     "name": "stdout",
     "output_type": "stream",
     "text": [
      "Meu nome completo é: Bruno Luna\n"
     ]
    }
   ],
   "source": [
    "nome = 'Bruno'\n",
    "sobrenome = 'Luna'\n",
    "\n",
    "print('Meu nome completo é: ' + nome + ' '+ sobrenome)\n"
   ]
  },
  {
   "cell_type": "code",
   "execution_count": 3,
   "id": "2aa29029",
   "metadata": {},
   "outputs": [
    {
     "name": "stdout",
     "output_type": "stream",
     "text": [
      "Meu nome completo é: Bruno Luna\n"
     ]
    }
   ],
   "source": [
    "# format string\n",
    "\n",
    "print(f'Meu nome completo é: {nome} {sobrenome}')\n"
   ]
  },
  {
   "cell_type": "markdown",
   "id": "2894ad8c",
   "metadata": {},
   "source": [
    "# Condicionais\n",
    "\n"
   ]
  },
  {
   "cell_type": "code",
   "execution_count": null,
   "id": "bba67112",
   "metadata": {},
   "outputs": [],
   "source": [
    "idade = 18\n",
    "\n",
    "if(idade = )"
   ]
  },
  {
   "cell_type": "code",
   "execution_count": 4,
   "id": "0e687a5d",
   "metadata": {},
   "outputs": [
    {
     "name": "stdout",
     "output_type": "stream",
     "text": [
      "Bruno\n",
      "[{'nome': 'Bruno', 'idade': '41', 'peso': '80.00', 'altura': '1,85'}]\n"
     ]
    }
   ],
   "source": [
    "# revisão de dicionário\n",
    "pessoa = {\n",
    "    'nome' : 'Bruno',\n",
    "    'idade' : '41',\n",
    "    'peso' : '105.00',\n",
    "    'altura' : '1,85'\n",
    "}\n",
    "\n",
    "print(pessoa['nome'])\n",
    "\n",
    "# atribuindo novo valor a uma chave\n",
    "pessoa['peso'] = '80.00'\n",
    "\n",
    "print([pessoa])\n"
   ]
  },
  {
   "cell_type": "code",
   "execution_count": 9,
   "id": "497ffcce",
   "metadata": {},
   "outputs": [],
   "source": [
    "power_rangers = [\n",
    "    { 'tommy' : ['verde', 'branco', 'vermelho']},\n",
    "    {'bylly' : 'Azul'},\n",
    "    {'kimberly' : 'rosa'}\n",
    "]\n",
    "\n",
    "\n"
   ]
  },
  {
   "cell_type": "code",
   "execution_count": 11,
   "id": "390a066d",
   "metadata": {},
   "outputs": [
    {
     "name": "stdout",
     "output_type": "stream",
     "text": [
      "branco\n"
     ]
    },
    {
     "ename": "",
     "evalue": "",
     "output_type": "error",
     "traceback": [
      "\u001b[1;31mO Kernel deu pane ao executar o código na célula atual ou em uma célula anterior. \n",
      "\u001b[1;31mAnalise o código nas células para identificar uma possível causa da pane. \n",
      "\u001b[1;31mClique <a href='https://aka.ms/vscodeJupyterKernelCrash'>aqui</a> para obter mais informações. \n",
      "\u001b[1;31mConsulte Jupyter <a href='command:jupyter.viewOutput'>log</a> para obter mais detalhes."
     ]
    }
   ],
   "source": [
    "print(power_rangers[0]['tommy'][1])"
   ]
  }
 ],
 "metadata": {
  "kernelspec": {
   "display_name": ".venv",
   "language": "python",
   "name": "python3"
  },
  "language_info": {
   "codemirror_mode": {
    "name": "ipython",
    "version": 3
   },
   "file_extension": ".py",
   "mimetype": "text/x-python",
   "name": "python",
   "nbconvert_exporter": "python",
   "pygments_lexer": "ipython3",
   "version": "3.12.10"
  }
 },
 "nbformat": 4,
 "nbformat_minor": 5
}
