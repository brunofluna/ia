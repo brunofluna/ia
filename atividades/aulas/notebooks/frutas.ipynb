{
 "cells": [
  {
   "cell_type": "markdown",
   "id": "e62f3825",
   "metadata": {},
   "source": [
    "# Metricas de tendencia central\n",
    "- Media\n",
    "- Mediana\n",
    "- Moda\n",
    "- Variancia\n",
    "- Desvio padrão\n"
   ]
  },
  {
   "cell_type": "code",
   "execution_count": 20,
   "id": "d9fbaa1e",
   "metadata": {},
   "outputs": [
    {
     "name": "stdout",
     "output_type": "stream",
     "text": [
      "<class 'dict'>\n",
      "{'fruta': ['banana', 'uva', 'maça', 'kiwi', 'morango', 'abacaxi', 'melão', 'pêra'], 'lote': [5, 3, 4, 7, 7, 10, 10, 10], 'valor(u)': [50.85, 10.5, 8.0, 9.99, 10.85, 100.5, 8.8, 99.99]}\n"
     ]
    },
    {
     "data": {
      "text/html": [
       "<div>\n",
       "<style scoped>\n",
       "    .dataframe tbody tr th:only-of-type {\n",
       "        vertical-align: middle;\n",
       "    }\n",
       "\n",
       "    .dataframe tbody tr th {\n",
       "        vertical-align: top;\n",
       "    }\n",
       "\n",
       "    .dataframe thead th {\n",
       "        text-align: right;\n",
       "    }\n",
       "</style>\n",
       "<table border=\"1\" class=\"dataframe\">\n",
       "  <thead>\n",
       "    <tr style=\"text-align: right;\">\n",
       "      <th></th>\n",
       "      <th>fruta</th>\n",
       "      <th>lote</th>\n",
       "      <th>valor(u)</th>\n",
       "    </tr>\n",
       "  </thead>\n",
       "  <tbody>\n",
       "    <tr>\n",
       "      <th>0</th>\n",
       "      <td>banana</td>\n",
       "      <td>5</td>\n",
       "      <td>50.85</td>\n",
       "    </tr>\n",
       "    <tr>\n",
       "      <th>1</th>\n",
       "      <td>uva</td>\n",
       "      <td>3</td>\n",
       "      <td>10.50</td>\n",
       "    </tr>\n",
       "    <tr>\n",
       "      <th>2</th>\n",
       "      <td>maça</td>\n",
       "      <td>4</td>\n",
       "      <td>8.00</td>\n",
       "    </tr>\n",
       "    <tr>\n",
       "      <th>3</th>\n",
       "      <td>kiwi</td>\n",
       "      <td>7</td>\n",
       "      <td>9.99</td>\n",
       "    </tr>\n",
       "    <tr>\n",
       "      <th>4</th>\n",
       "      <td>morango</td>\n",
       "      <td>7</td>\n",
       "      <td>10.85</td>\n",
       "    </tr>\n",
       "    <tr>\n",
       "      <th>5</th>\n",
       "      <td>abacaxi</td>\n",
       "      <td>10</td>\n",
       "      <td>100.50</td>\n",
       "    </tr>\n",
       "    <tr>\n",
       "      <th>6</th>\n",
       "      <td>melão</td>\n",
       "      <td>10</td>\n",
       "      <td>8.80</td>\n",
       "    </tr>\n",
       "    <tr>\n",
       "      <th>7</th>\n",
       "      <td>pêra</td>\n",
       "      <td>10</td>\n",
       "      <td>99.99</td>\n",
       "    </tr>\n",
       "  </tbody>\n",
       "</table>\n",
       "</div>"
      ],
      "text/plain": [
       "     fruta  lote  valor(u)\n",
       "0   banana     5     50.85\n",
       "1      uva     3     10.50\n",
       "2     maça     4      8.00\n",
       "3     kiwi     7      9.99\n",
       "4  morango     7     10.85\n",
       "5  abacaxi    10    100.50\n",
       "6    melão    10      8.80\n",
       "7     pêra    10     99.99"
      ]
     },
     "metadata": {},
     "output_type": "display_data"
    }
   ],
   "source": [
    "frutas = {\n",
    "    'fruta':['banana', 'uva', 'maça', 'kiwi', 'morango', 'abacaxi', 'melão', 'pêra'], \n",
    "'lote':[5,3,4,7,7,10,10,10],\n",
    "'valor(u)':[50.85, 10.50, 8.00, 9.99, 10.85, 100.50, 8.80, 99.99,]\n",
    "}\n",
    "print(type(frutas))\n",
    "print(frutas)\n",
    "display(df)"
   ]
  },
  {
   "cell_type": "code",
   "execution_count": 21,
   "id": "f980b150",
   "metadata": {},
   "outputs": [],
   "source": [
    "import pandas as pd\n"
   ]
  },
  {
   "cell_type": "code",
   "execution_count": 22,
   "id": "b410b9ea",
   "metadata": {},
   "outputs": [
    {
     "name": "stdout",
     "output_type": "stream",
     "text": [
      "<class 'pandas.core.frame.DataFrame'>\n",
      "     fruta  lote  valor(u)\n",
      "0   banana     5     50.85\n",
      "1      uva     3     10.50\n",
      "2     maça     4      8.00\n",
      "3     kiwi     7      9.99\n",
      "4  morango     7     10.85\n",
      "5  abacaxi    10    100.50\n",
      "6    melão    10      8.80\n",
      "7     pêra    10     99.99\n"
     ]
    },
    {
     "data": {
      "text/html": [
       "<div>\n",
       "<style scoped>\n",
       "    .dataframe tbody tr th:only-of-type {\n",
       "        vertical-align: middle;\n",
       "    }\n",
       "\n",
       "    .dataframe tbody tr th {\n",
       "        vertical-align: top;\n",
       "    }\n",
       "\n",
       "    .dataframe thead th {\n",
       "        text-align: right;\n",
       "    }\n",
       "</style>\n",
       "<table border=\"1\" class=\"dataframe\">\n",
       "  <thead>\n",
       "    <tr style=\"text-align: right;\">\n",
       "      <th></th>\n",
       "      <th>fruta</th>\n",
       "      <th>lote</th>\n",
       "      <th>valor(u)</th>\n",
       "    </tr>\n",
       "  </thead>\n",
       "  <tbody>\n",
       "    <tr>\n",
       "      <th>0</th>\n",
       "      <td>banana</td>\n",
       "      <td>5</td>\n",
       "      <td>50.85</td>\n",
       "    </tr>\n",
       "    <tr>\n",
       "      <th>1</th>\n",
       "      <td>uva</td>\n",
       "      <td>3</td>\n",
       "      <td>10.50</td>\n",
       "    </tr>\n",
       "    <tr>\n",
       "      <th>2</th>\n",
       "      <td>maça</td>\n",
       "      <td>4</td>\n",
       "      <td>8.00</td>\n",
       "    </tr>\n",
       "    <tr>\n",
       "      <th>3</th>\n",
       "      <td>kiwi</td>\n",
       "      <td>7</td>\n",
       "      <td>9.99</td>\n",
       "    </tr>\n",
       "    <tr>\n",
       "      <th>4</th>\n",
       "      <td>morango</td>\n",
       "      <td>7</td>\n",
       "      <td>10.85</td>\n",
       "    </tr>\n",
       "    <tr>\n",
       "      <th>5</th>\n",
       "      <td>abacaxi</td>\n",
       "      <td>10</td>\n",
       "      <td>100.50</td>\n",
       "    </tr>\n",
       "    <tr>\n",
       "      <th>6</th>\n",
       "      <td>melão</td>\n",
       "      <td>10</td>\n",
       "      <td>8.80</td>\n",
       "    </tr>\n",
       "    <tr>\n",
       "      <th>7</th>\n",
       "      <td>pêra</td>\n",
       "      <td>10</td>\n",
       "      <td>99.99</td>\n",
       "    </tr>\n",
       "  </tbody>\n",
       "</table>\n",
       "</div>"
      ],
      "text/plain": [
       "     fruta  lote  valor(u)\n",
       "0   banana     5     50.85\n",
       "1      uva     3     10.50\n",
       "2     maça     4      8.00\n",
       "3     kiwi     7      9.99\n",
       "4  morango     7     10.85\n",
       "5  abacaxi    10    100.50\n",
       "6    melão    10      8.80\n",
       "7     pêra    10     99.99"
      ]
     },
     "metadata": {},
     "output_type": "display_data"
    }
   ],
   "source": [
    "# converter dicionário em dataframe\n",
    "df = pd.DataFrame(frutas)\n",
    "print(type(df))\n",
    "print(df)\n",
    "display(df)\n"
   ]
  },
  {
   "cell_type": "code",
   "execution_count": 23,
   "id": "e004cb55",
   "metadata": {},
   "outputs": [
    {
     "data": {
      "text/plain": [
       "0     banana\n",
       "1        uva\n",
       "2       maça\n",
       "3       kiwi\n",
       "4    morango\n",
       "5    abacaxi\n",
       "6      melão\n",
       "7       pêra\n",
       "Name: fruta, dtype: object"
      ]
     },
     "execution_count": 23,
     "metadata": {},
     "output_type": "execute_result"
    }
   ],
   "source": [
    "df['fruta']\n"
   ]
  },
  {
   "cell_type": "code",
   "execution_count": 24,
   "id": "193c89e6",
   "metadata": {},
   "outputs": [
    {
     "data": {
      "text/html": [
       "<div>\n",
       "<style scoped>\n",
       "    .dataframe tbody tr th:only-of-type {\n",
       "        vertical-align: middle;\n",
       "    }\n",
       "\n",
       "    .dataframe tbody tr th {\n",
       "        vertical-align: top;\n",
       "    }\n",
       "\n",
       "    .dataframe thead th {\n",
       "        text-align: right;\n",
       "    }\n",
       "</style>\n",
       "<table border=\"1\" class=\"dataframe\">\n",
       "  <thead>\n",
       "    <tr style=\"text-align: right;\">\n",
       "      <th></th>\n",
       "      <th>lote</th>\n",
       "      <th>valor(u)</th>\n",
       "    </tr>\n",
       "  </thead>\n",
       "  <tbody>\n",
       "    <tr>\n",
       "      <th>0</th>\n",
       "      <td>5</td>\n",
       "      <td>50.85</td>\n",
       "    </tr>\n",
       "    <tr>\n",
       "      <th>1</th>\n",
       "      <td>3</td>\n",
       "      <td>10.50</td>\n",
       "    </tr>\n",
       "    <tr>\n",
       "      <th>2</th>\n",
       "      <td>4</td>\n",
       "      <td>8.00</td>\n",
       "    </tr>\n",
       "    <tr>\n",
       "      <th>3</th>\n",
       "      <td>7</td>\n",
       "      <td>9.99</td>\n",
       "    </tr>\n",
       "    <tr>\n",
       "      <th>4</th>\n",
       "      <td>7</td>\n",
       "      <td>10.85</td>\n",
       "    </tr>\n",
       "    <tr>\n",
       "      <th>5</th>\n",
       "      <td>10</td>\n",
       "      <td>100.50</td>\n",
       "    </tr>\n",
       "    <tr>\n",
       "      <th>6</th>\n",
       "      <td>10</td>\n",
       "      <td>8.80</td>\n",
       "    </tr>\n",
       "    <tr>\n",
       "      <th>7</th>\n",
       "      <td>10</td>\n",
       "      <td>99.99</td>\n",
       "    </tr>\n",
       "  </tbody>\n",
       "</table>\n",
       "</div>"
      ],
      "text/plain": [
       "   lote  valor(u)\n",
       "0     5     50.85\n",
       "1     3     10.50\n",
       "2     4      8.00\n",
       "3     7      9.99\n",
       "4     7     10.85\n",
       "5    10    100.50\n",
       "6    10      8.80\n",
       "7    10     99.99"
      ]
     },
     "execution_count": 24,
     "metadata": {},
     "output_type": "execute_result"
    }
   ],
   "source": [
    "df[['lote', 'valor(u)']]"
   ]
  },
  {
   "cell_type": "code",
   "execution_count": 27,
   "id": "15007a10",
   "metadata": {},
   "outputs": [
    {
     "data": {
      "text/html": [
       "<div>\n",
       "<style scoped>\n",
       "    .dataframe tbody tr th:only-of-type {\n",
       "        vertical-align: middle;\n",
       "    }\n",
       "\n",
       "    .dataframe tbody tr th {\n",
       "        vertical-align: top;\n",
       "    }\n",
       "\n",
       "    .dataframe thead th {\n",
       "        text-align: right;\n",
       "    }\n",
       "</style>\n",
       "<table border=\"1\" class=\"dataframe\">\n",
       "  <thead>\n",
       "    <tr style=\"text-align: right;\">\n",
       "      <th></th>\n",
       "      <th>fruta</th>\n",
       "      <th>lote</th>\n",
       "    </tr>\n",
       "  </thead>\n",
       "  <tbody>\n",
       "    <tr>\n",
       "      <th>0</th>\n",
       "      <td>banana</td>\n",
       "      <td>5</td>\n",
       "    </tr>\n",
       "    <tr>\n",
       "      <th>1</th>\n",
       "      <td>uva</td>\n",
       "      <td>3</td>\n",
       "    </tr>\n",
       "    <tr>\n",
       "      <th>2</th>\n",
       "      <td>maça</td>\n",
       "      <td>4</td>\n",
       "    </tr>\n",
       "    <tr>\n",
       "      <th>3</th>\n",
       "      <td>kiwi</td>\n",
       "      <td>7</td>\n",
       "    </tr>\n",
       "    <tr>\n",
       "      <th>4</th>\n",
       "      <td>morango</td>\n",
       "      <td>7</td>\n",
       "    </tr>\n",
       "    <tr>\n",
       "      <th>5</th>\n",
       "      <td>abacaxi</td>\n",
       "      <td>10</td>\n",
       "    </tr>\n",
       "    <tr>\n",
       "      <th>6</th>\n",
       "      <td>melão</td>\n",
       "      <td>10</td>\n",
       "    </tr>\n",
       "    <tr>\n",
       "      <th>7</th>\n",
       "      <td>pêra</td>\n",
       "      <td>10</td>\n",
       "    </tr>\n",
       "  </tbody>\n",
       "</table>\n",
       "</div>"
      ],
      "text/plain": [
       "     fruta  lote\n",
       "0   banana     5\n",
       "1      uva     3\n",
       "2     maça     4\n",
       "3     kiwi     7\n",
       "4  morango     7\n",
       "5  abacaxi    10\n",
       "6    melão    10\n",
       "7     pêra    10"
      ]
     },
     "execution_count": 27,
     "metadata": {},
     "output_type": "execute_result"
    }
   ],
   "source": [
    "colunas = ['fruta', 'lote']\n",
    "\n",
    "df_sem_valor = df[colunas]\n",
    "\n",
    "df_sem_valor"
   ]
  },
  {
   "cell_type": "code",
   "execution_count": 28,
   "id": "4dfd461a",
   "metadata": {},
   "outputs": [
    {
     "name": "stdout",
     "output_type": "stream",
     "text": [
      "<class 'pandas.core.series.Series'>\n"
     ]
    }
   ],
   "source": [
    "print(type(df['lote']))\n"
   ]
  },
  {
   "cell_type": "code",
   "execution_count": null,
   "id": "739adc45",
   "metadata": {},
   "outputs": [],
   "source": [
    "# Média\n",
    "df['lote'].mean()"
   ]
  },
  {
   "cell_type": "code",
   "execution_count": null,
   "id": "05ae62f2",
   "metadata": {},
   "outputs": [],
   "source": [
    "# Mediana\n",
    "df['lote'].median()\n"
   ]
  },
  {
   "cell_type": "code",
   "execution_count": 33,
   "id": "193a4ad9",
   "metadata": {},
   "outputs": [
    {
     "data": {
      "text/plain": [
       "0    10\n",
       "Name: lote, dtype: int64"
      ]
     },
     "execution_count": 33,
     "metadata": {},
     "output_type": "execute_result"
    }
   ],
   "source": [
    "# Moda\n",
    "df['lote'].mode()\n"
   ]
  },
  {
   "cell_type": "code",
   "execution_count": 34,
   "id": "7a3deb75",
   "metadata": {},
   "outputs": [
    {
     "data": {
      "text/plain": [
       "np.float64(8.0)"
      ]
     },
     "execution_count": 34,
     "metadata": {},
     "output_type": "execute_result"
    }
   ],
   "source": [
    "# Variancia\n",
    "df['lote'].var()\n"
   ]
  },
  {
   "cell_type": "code",
   "execution_count": null,
   "id": "330beab3",
   "metadata": {},
   "outputs": [
    {
     "data": {
      "text/plain": [
       "np.float64(2.8284271247461903)"
      ]
     },
     "execution_count": 37,
     "metadata": {},
     "output_type": "execute_result"
    }
   ],
   "source": [
    "# Desvio padrão / standard\n",
    "df['lote'].std(ddof=1)"
   ]
  },
  {
   "cell_type": "code",
   "execution_count": 40,
   "id": "ba894caa",
   "metadata": {},
   "outputs": [
    {
     "name": "stdout",
     "output_type": "stream",
     "text": [
      "Media: 7.0\n",
      "Mediana: 7.0\n",
      "Moda: 0    10\n",
      "Name: lote, dtype: int64\n",
      "Variação: 8.0\n",
      "Desvio Padrão: 2.8284271247461903\n"
     ]
    }
   ],
   "source": [
    "mean = df['lote'].mean()\n",
    "median = df['lote'].median()\n",
    "mode = df['lote'].mode()\n",
    "var = df['lote'].var()\n",
    "std = df['lote'].std()\n",
    "\n",
    "print(f'Media: {mean}')\n",
    "print(f'Mediana: {median}')\n",
    "print(f'Moda: {mode}')\n",
    "print(f'Variação: {var}')\n",
    "print(f'Desvio Padrão: {std}')\n"
   ]
  },
  {
   "cell_type": "code",
   "execution_count": null,
   "id": "906b876c",
   "metadata": {},
   "outputs": [],
   "source": []
  }
 ],
 "metadata": {
  "kernelspec": {
   "display_name": ".venv (3.12.10)",
   "language": "python",
   "name": "python3"
  },
  "language_info": {
   "codemirror_mode": {
    "name": "ipython",
    "version": 3
   },
   "file_extension": ".py",
   "mimetype": "text/x-python",
   "name": "python",
   "nbconvert_exporter": "python",
   "pygments_lexer": "ipython3",
   "version": "3.12.10"
  }
 },
 "nbformat": 4,
 "nbformat_minor": 5
}
