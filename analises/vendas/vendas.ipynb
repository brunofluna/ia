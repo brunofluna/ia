{
 "cells": [
  {
   "cell_type": "code",
   "execution_count": 4,
   "id": "1c3637a9-7470-4a33-bf96-2579130c1d0d",
   "metadata": {},
   "outputs": [],
   "source": [
    "# Instalação do pandas\n",
    "\n",
    "! pip install pandas -q"
   ]
  },
  {
   "cell_type": "code",
   "execution_count": 5,
   "id": "f163f85d-52c8-4071-a612-a56143a96b62",
   "metadata": {},
   "outputs": [],
   "source": [
    "import pandas as pd"
   ]
  },
  {
   "cell_type": "code",
   "execution_count": 6,
   "id": "eed4e157-809b-4a38-9d7e-00394b480f3e",
   "metadata": {},
   "outputs": [],
   "source": [
    "%config IPCompleter.greedy=True"
   ]
  },
  {
   "cell_type": "code",
   "execution_count": 7,
   "id": "74c738c9-cde7-49f7-9da2-978d784e7d00",
   "metadata": {},
   "outputs": [],
   "source": [
    "import os"
   ]
  },
  {
   "cell_type": "code",
   "execution_count": 8,
   "id": "74b5b36f-31d0-441e-93ab-17098af8a38a",
   "metadata": {},
   "outputs": [],
   "source": [
    "dados = pd.read_csv('./vendas.csv', sep=';')"
   ]
  },
  {
   "cell_type": "code",
   "execution_count": 9,
   "id": "215d593e-d019-421e-99c5-c117e6dd6883",
   "metadata": {},
   "outputs": [
    {
     "data": {
      "text/html": [
       "<div>\n",
       "<style scoped>\n",
       "    .dataframe tbody tr th:only-of-type {\n",
       "        vertical-align: middle;\n",
       "    }\n",
       "\n",
       "    .dataframe tbody tr th {\n",
       "        vertical-align: top;\n",
       "    }\n",
       "\n",
       "    .dataframe thead th {\n",
       "        text-align: right;\n",
       "    }\n",
       "</style>\n",
       "<table border=\"1\" class=\"dataframe\">\n",
       "  <thead>\n",
       "    <tr style=\"text-align: right;\">\n",
       "      <th></th>\n",
       "      <th>ID_Pedido</th>\n",
       "      <th>Data_Compra</th>\n",
       "      <th>Cliente_ID</th>\n",
       "      <th>Valor_Total</th>\n",
       "      <th>Categoria_Produto</th>\n",
       "      <th>Quantidade</th>\n",
       "    </tr>\n",
       "  </thead>\n",
       "  <tbody>\n",
       "    <tr>\n",
       "      <th>0</th>\n",
       "      <td>1001</td>\n",
       "      <td>2024-03-01</td>\n",
       "      <td>501</td>\n",
       "      <td>150.75</td>\n",
       "      <td>Eletrônicos</td>\n",
       "      <td>1</td>\n",
       "    </tr>\n",
       "    <tr>\n",
       "      <th>1</th>\n",
       "      <td>1002</td>\n",
       "      <td>2024-03-02</td>\n",
       "      <td>502</td>\n",
       "      <td>200.50</td>\n",
       "      <td>Roupas</td>\n",
       "      <td>3</td>\n",
       "    </tr>\n",
       "    <tr>\n",
       "      <th>2</th>\n",
       "      <td>1003</td>\n",
       "      <td>2024-03-03</td>\n",
       "      <td>503</td>\n",
       "      <td>320.00</td>\n",
       "      <td>Casa</td>\n",
       "      <td>2</td>\n",
       "    </tr>\n",
       "    <tr>\n",
       "      <th>3</th>\n",
       "      <td>1004</td>\n",
       "      <td>2024-03-04</td>\n",
       "      <td>501</td>\n",
       "      <td>90.25</td>\n",
       "      <td>Eletrônicos</td>\n",
       "      <td>1</td>\n",
       "    </tr>\n",
       "    <tr>\n",
       "      <th>4</th>\n",
       "      <td>1005</td>\n",
       "      <td>2024-03-05</td>\n",
       "      <td>504</td>\n",
       "      <td>450.60</td>\n",
       "      <td>Esportes</td>\n",
       "      <td>4</td>\n",
       "    </tr>\n",
       "  </tbody>\n",
       "</table>\n",
       "</div>"
      ],
      "text/plain": [
       "   ID_Pedido Data_Compra  Cliente_ID  Valor_Total Categoria_Produto  \\\n",
       "0       1001  2024-03-01         501       150.75       Eletrônicos   \n",
       "1       1002  2024-03-02         502       200.50            Roupas   \n",
       "2       1003  2024-03-03         503       320.00              Casa   \n",
       "3       1004  2024-03-04         501        90.25       Eletrônicos   \n",
       "4       1005  2024-03-05         504       450.60          Esportes   \n",
       "\n",
       "   Quantidade  \n",
       "0           1  \n",
       "1           3  \n",
       "2           2  \n",
       "3           1  \n",
       "4           4  "
      ]
     },
     "execution_count": 9,
     "metadata": {},
     "output_type": "execute_result"
    }
   ],
   "source": [
    "dados"
   ]
  },
  {
   "cell_type": "code",
   "execution_count": 10,
   "id": "4a1d07ca-acdf-474f-8002-cd10c704dde4",
   "metadata": {},
   "outputs": [],
   "source": [
    "# Analise exploratória\n",
    "#Trata-se do reconhecimento inicial dos dados presentes no dataset."
   ]
  },
  {
   "cell_type": "code",
   "execution_count": 11,
   "id": "52897fb9-b03c-4fe7-b980-68d09dc541b6",
   "metadata": {},
   "outputs": [
    {
     "data": {
      "text/html": [
       "<div>\n",
       "<style scoped>\n",
       "    .dataframe tbody tr th:only-of-type {\n",
       "        vertical-align: middle;\n",
       "    }\n",
       "\n",
       "    .dataframe tbody tr th {\n",
       "        vertical-align: top;\n",
       "    }\n",
       "\n",
       "    .dataframe thead th {\n",
       "        text-align: right;\n",
       "    }\n",
       "</style>\n",
       "<table border=\"1\" class=\"dataframe\">\n",
       "  <thead>\n",
       "    <tr style=\"text-align: right;\">\n",
       "      <th></th>\n",
       "      <th>ID_Pedido</th>\n",
       "      <th>Data_Compra</th>\n",
       "      <th>Cliente_ID</th>\n",
       "      <th>Valor_Total</th>\n",
       "      <th>Categoria_Produto</th>\n",
       "      <th>Quantidade</th>\n",
       "    </tr>\n",
       "  </thead>\n",
       "  <tbody>\n",
       "    <tr>\n",
       "      <th>0</th>\n",
       "      <td>1001</td>\n",
       "      <td>2024-03-01</td>\n",
       "      <td>501</td>\n",
       "      <td>150.75</td>\n",
       "      <td>Eletrônicos</td>\n",
       "      <td>1</td>\n",
       "    </tr>\n",
       "    <tr>\n",
       "      <th>1</th>\n",
       "      <td>1002</td>\n",
       "      <td>2024-03-02</td>\n",
       "      <td>502</td>\n",
       "      <td>200.50</td>\n",
       "      <td>Roupas</td>\n",
       "      <td>3</td>\n",
       "    </tr>\n",
       "    <tr>\n",
       "      <th>2</th>\n",
       "      <td>1003</td>\n",
       "      <td>2024-03-03</td>\n",
       "      <td>503</td>\n",
       "      <td>320.00</td>\n",
       "      <td>Casa</td>\n",
       "      <td>2</td>\n",
       "    </tr>\n",
       "  </tbody>\n",
       "</table>\n",
       "</div>"
      ],
      "text/plain": [
       "   ID_Pedido Data_Compra  Cliente_ID  Valor_Total Categoria_Produto  \\\n",
       "0       1001  2024-03-01         501       150.75       Eletrônicos   \n",
       "1       1002  2024-03-02         502       200.50            Roupas   \n",
       "2       1003  2024-03-03         503       320.00              Casa   \n",
       "\n",
       "   Quantidade  \n",
       "0           1  \n",
       "1           3  \n",
       "2           2  "
      ]
     },
     "execution_count": 11,
     "metadata": {},
     "output_type": "execute_result"
    }
   ],
   "source": [
    "# verifica as linhas iniciais entre parenteses o numero de linhas\n",
    "dados.head(3)"
   ]
  },
  {
   "cell_type": "code",
   "execution_count": 12,
   "id": "a3361ae8-0a13-4861-862a-bec19b466d89",
   "metadata": {},
   "outputs": [
    {
     "data": {
      "text/html": [
       "<div>\n",
       "<style scoped>\n",
       "    .dataframe tbody tr th:only-of-type {\n",
       "        vertical-align: middle;\n",
       "    }\n",
       "\n",
       "    .dataframe tbody tr th {\n",
       "        vertical-align: top;\n",
       "    }\n",
       "\n",
       "    .dataframe thead th {\n",
       "        text-align: right;\n",
       "    }\n",
       "</style>\n",
       "<table border=\"1\" class=\"dataframe\">\n",
       "  <thead>\n",
       "    <tr style=\"text-align: right;\">\n",
       "      <th></th>\n",
       "      <th>ID_Pedido</th>\n",
       "      <th>Data_Compra</th>\n",
       "      <th>Cliente_ID</th>\n",
       "      <th>Valor_Total</th>\n",
       "      <th>Categoria_Produto</th>\n",
       "      <th>Quantidade</th>\n",
       "    </tr>\n",
       "  </thead>\n",
       "  <tbody>\n",
       "    <tr>\n",
       "      <th>0</th>\n",
       "      <td>1001</td>\n",
       "      <td>2024-03-01</td>\n",
       "      <td>501</td>\n",
       "      <td>150.75</td>\n",
       "      <td>Eletrônicos</td>\n",
       "      <td>1</td>\n",
       "    </tr>\n",
       "    <tr>\n",
       "      <th>1</th>\n",
       "      <td>1002</td>\n",
       "      <td>2024-03-02</td>\n",
       "      <td>502</td>\n",
       "      <td>200.50</td>\n",
       "      <td>Roupas</td>\n",
       "      <td>3</td>\n",
       "    </tr>\n",
       "    <tr>\n",
       "      <th>2</th>\n",
       "      <td>1003</td>\n",
       "      <td>2024-03-03</td>\n",
       "      <td>503</td>\n",
       "      <td>320.00</td>\n",
       "      <td>Casa</td>\n",
       "      <td>2</td>\n",
       "    </tr>\n",
       "    <tr>\n",
       "      <th>3</th>\n",
       "      <td>1004</td>\n",
       "      <td>2024-03-04</td>\n",
       "      <td>501</td>\n",
       "      <td>90.25</td>\n",
       "      <td>Eletrônicos</td>\n",
       "      <td>1</td>\n",
       "    </tr>\n",
       "    <tr>\n",
       "      <th>4</th>\n",
       "      <td>1005</td>\n",
       "      <td>2024-03-05</td>\n",
       "      <td>504</td>\n",
       "      <td>450.60</td>\n",
       "      <td>Esportes</td>\n",
       "      <td>4</td>\n",
       "    </tr>\n",
       "  </tbody>\n",
       "</table>\n",
       "</div>"
      ],
      "text/plain": [
       "   ID_Pedido Data_Compra  Cliente_ID  Valor_Total Categoria_Produto  \\\n",
       "0       1001  2024-03-01         501       150.75       Eletrônicos   \n",
       "1       1002  2024-03-02         502       200.50            Roupas   \n",
       "2       1003  2024-03-03         503       320.00              Casa   \n",
       "3       1004  2024-03-04         501        90.25       Eletrônicos   \n",
       "4       1005  2024-03-05         504       450.60          Esportes   \n",
       "\n",
       "   Quantidade  \n",
       "0           1  \n",
       "1           3  \n",
       "2           2  \n",
       "3           1  \n",
       "4           4  "
      ]
     },
     "execution_count": 12,
     "metadata": {},
     "output_type": "execute_result"
    }
   ],
   "source": [
    "# verificar as linhas finais do dataset\n",
    "dados.tail()"
   ]
  },
  {
   "cell_type": "code",
   "execution_count": 13,
   "id": "ccf36c32-daf4-4417-8d1d-d6754f384c04",
   "metadata": {},
   "outputs": [
    {
     "data": {
      "text/plain": [
       "(5, 6)"
      ]
     },
     "execution_count": 13,
     "metadata": {},
     "output_type": "execute_result"
    }
   ],
   "source": [
    "# mostra a quantidade de linhas e a quantidade séries (colunas)\n",
    "dados.shape"
   ]
  },
  {
   "cell_type": "code",
   "execution_count": 14,
   "id": "46ed8d94-b457-477d-9b19-63a538701233",
   "metadata": {},
   "outputs": [
    {
     "name": "stdout",
     "output_type": "stream",
     "text": [
      "Variancia 20668.488250000002\n",
      "Mediana 200.5\n"
     ]
    }
   ],
   "source": [
    "variancia = dados['Valor_Total'].var()\n",
    "mediana = dados['Valor_Total'].median()\n",
    "\n",
    "print(f'Variancia {variancia}')\n",
    "print(f'Mediana {mediana}')"
   ]
  },
  {
   "cell_type": "code",
   "execution_count": 15,
   "id": "87d708bf-71d8-4362-a8c7-a387da120158",
   "metadata": {},
   "outputs": [
    {
     "name": "stdout",
     "output_type": "stream",
     "text": [
      "<class 'pandas.core.frame.DataFrame'>\n",
      "RangeIndex: 5 entries, 0 to 4\n",
      "Data columns (total 6 columns):\n",
      " #   Column             Non-Null Count  Dtype  \n",
      "---  ------             --------------  -----  \n",
      " 0   ID_Pedido          5 non-null      int64  \n",
      " 1   Data_Compra        5 non-null      object \n",
      " 2   Cliente_ID         5 non-null      int64  \n",
      " 3   Valor_Total        5 non-null      float64\n",
      " 4   Categoria_Produto  5 non-null      object \n",
      " 5   Quantidade         5 non-null      int64  \n",
      "dtypes: float64(1), int64(3), object(2)\n",
      "memory usage: 372.0+ bytes\n"
     ]
    }
   ],
   "source": [
    "dados.info()"
   ]
  },
  {
   "cell_type": "code",
   "execution_count": 16,
   "id": "124872fb-d71d-474d-a3d6-5e5681a16127",
   "metadata": {},
   "outputs": [
    {
     "data": {
      "text/plain": [
       "array(['Eletrônicos', 'Roupas', 'Casa', 'Esportes'], dtype=object)"
      ]
     },
     "execution_count": 16,
     "metadata": {},
     "output_type": "execute_result"
    }
   ],
   "source": [
    "dados['Categoria_Produto'].unique()"
   ]
  },
  {
   "cell_type": "code",
   "execution_count": 17,
   "id": "80de4e35-e5b1-4142-a08a-3fd2b59eab3d",
   "metadata": {},
   "outputs": [
    {
     "data": {
      "text/plain": [
       "Categoria_Produto\n",
       "Eletrônicos    2\n",
       "Roupas         1\n",
       "Casa           1\n",
       "Esportes       1\n",
       "Name: count, dtype: int64"
      ]
     },
     "execution_count": 17,
     "metadata": {},
     "output_type": "execute_result"
    }
   ],
   "source": [
    "dados['Categoria_Produto'].value_counts()"
   ]
  },
  {
   "cell_type": "code",
   "execution_count": 18,
   "id": "1961536d-ea3f-4845-92cb-01f6f5e73836",
   "metadata": {},
   "outputs": [
    {
     "data": {
      "text/plain": [
       "Index(['ID_Pedido', 'Data_Compra', 'Cliente_ID', 'Valor_Total',\n",
       "       'Categoria_Produto', 'Quantidade'],\n",
       "      dtype='object')"
      ]
     },
     "execution_count": 18,
     "metadata": {},
     "output_type": "execute_result"
    }
   ],
   "source": [
    "dados.columns"
   ]
  },
  {
   "cell_type": "code",
   "execution_count": 19,
   "id": "cf961eaf-ec1c-4e5f-b7cd-73a67322cd4d",
   "metadata": {},
   "outputs": [
    {
     "data": {
      "text/html": [
       "<div>\n",
       "<style scoped>\n",
       "    .dataframe tbody tr th:only-of-type {\n",
       "        vertical-align: middle;\n",
       "    }\n",
       "\n",
       "    .dataframe tbody tr th {\n",
       "        vertical-align: top;\n",
       "    }\n",
       "\n",
       "    .dataframe thead th {\n",
       "        text-align: right;\n",
       "    }\n",
       "</style>\n",
       "<table border=\"1\" class=\"dataframe\">\n",
       "  <thead>\n",
       "    <tr style=\"text-align: right;\">\n",
       "      <th></th>\n",
       "      <th>ID_Pedido</th>\n",
       "      <th>dt_compra</th>\n",
       "      <th>Cliente_ID</th>\n",
       "      <th>Valor_Total</th>\n",
       "      <th>categoria</th>\n",
       "      <th>Quantidade</th>\n",
       "    </tr>\n",
       "  </thead>\n",
       "  <tbody>\n",
       "    <tr>\n",
       "      <th>0</th>\n",
       "      <td>1001</td>\n",
       "      <td>2024-03-01</td>\n",
       "      <td>501</td>\n",
       "      <td>150.75</td>\n",
       "      <td>Eletrônicos</td>\n",
       "      <td>1</td>\n",
       "    </tr>\n",
       "    <tr>\n",
       "      <th>1</th>\n",
       "      <td>1002</td>\n",
       "      <td>2024-03-02</td>\n",
       "      <td>502</td>\n",
       "      <td>200.50</td>\n",
       "      <td>Roupas</td>\n",
       "      <td>3</td>\n",
       "    </tr>\n",
       "    <tr>\n",
       "      <th>2</th>\n",
       "      <td>1003</td>\n",
       "      <td>2024-03-03</td>\n",
       "      <td>503</td>\n",
       "      <td>320.00</td>\n",
       "      <td>Casa</td>\n",
       "      <td>2</td>\n",
       "    </tr>\n",
       "    <tr>\n",
       "      <th>3</th>\n",
       "      <td>1004</td>\n",
       "      <td>2024-03-04</td>\n",
       "      <td>501</td>\n",
       "      <td>90.25</td>\n",
       "      <td>Eletrônicos</td>\n",
       "      <td>1</td>\n",
       "    </tr>\n",
       "    <tr>\n",
       "      <th>4</th>\n",
       "      <td>1005</td>\n",
       "      <td>2024-03-05</td>\n",
       "      <td>504</td>\n",
       "      <td>450.60</td>\n",
       "      <td>Esportes</td>\n",
       "      <td>4</td>\n",
       "    </tr>\n",
       "  </tbody>\n",
       "</table>\n",
       "</div>"
      ],
      "text/plain": [
       "   ID_Pedido   dt_compra  Cliente_ID  Valor_Total    categoria  Quantidade\n",
       "0       1001  2024-03-01         501       150.75  Eletrônicos           1\n",
       "1       1002  2024-03-02         502       200.50       Roupas           3\n",
       "2       1003  2024-03-03         503       320.00         Casa           2\n",
       "3       1004  2024-03-04         501        90.25  Eletrônicos           1\n",
       "4       1005  2024-03-05         504       450.60     Esportes           4"
      ]
     },
     "execution_count": 19,
     "metadata": {},
     "output_type": "execute_result"
    }
   ],
   "source": [
    "dados.rename(columns={'Data_Compra':'dt_compra', 'Categoria_Produto':'categoria'})"
   ]
  },
  {
   "cell_type": "code",
   "execution_count": 20,
   "id": "c86b3da0-3238-49f1-94e2-56b08c58d012",
   "metadata": {},
   "outputs": [
    {
     "data": {
      "text/html": [
       "<div>\n",
       "<style scoped>\n",
       "    .dataframe tbody tr th:only-of-type {\n",
       "        vertical-align: middle;\n",
       "    }\n",
       "\n",
       "    .dataframe tbody tr th {\n",
       "        vertical-align: top;\n",
       "    }\n",
       "\n",
       "    .dataframe thead th {\n",
       "        text-align: right;\n",
       "    }\n",
       "</style>\n",
       "<table border=\"1\" class=\"dataframe\">\n",
       "  <thead>\n",
       "    <tr style=\"text-align: right;\">\n",
       "      <th></th>\n",
       "      <th>pedido</th>\n",
       "      <th>data</th>\n",
       "      <th>cliente</th>\n",
       "      <th>valor</th>\n",
       "      <th>categoria</th>\n",
       "      <th>qtd</th>\n",
       "    </tr>\n",
       "  </thead>\n",
       "  <tbody>\n",
       "    <tr>\n",
       "      <th>0</th>\n",
       "      <td>1001</td>\n",
       "      <td>2024-03-01</td>\n",
       "      <td>501</td>\n",
       "      <td>150.75</td>\n",
       "      <td>Eletrônicos</td>\n",
       "      <td>1</td>\n",
       "    </tr>\n",
       "    <tr>\n",
       "      <th>1</th>\n",
       "      <td>1002</td>\n",
       "      <td>2024-03-02</td>\n",
       "      <td>502</td>\n",
       "      <td>200.50</td>\n",
       "      <td>Roupas</td>\n",
       "      <td>3</td>\n",
       "    </tr>\n",
       "    <tr>\n",
       "      <th>2</th>\n",
       "      <td>1003</td>\n",
       "      <td>2024-03-03</td>\n",
       "      <td>503</td>\n",
       "      <td>320.00</td>\n",
       "      <td>Casa</td>\n",
       "      <td>2</td>\n",
       "    </tr>\n",
       "    <tr>\n",
       "      <th>3</th>\n",
       "      <td>1004</td>\n",
       "      <td>2024-03-04</td>\n",
       "      <td>501</td>\n",
       "      <td>90.25</td>\n",
       "      <td>Eletrônicos</td>\n",
       "      <td>1</td>\n",
       "    </tr>\n",
       "    <tr>\n",
       "      <th>4</th>\n",
       "      <td>1005</td>\n",
       "      <td>2024-03-05</td>\n",
       "      <td>504</td>\n",
       "      <td>450.60</td>\n",
       "      <td>Esportes</td>\n",
       "      <td>4</td>\n",
       "    </tr>\n",
       "  </tbody>\n",
       "</table>\n",
       "</div>"
      ],
      "text/plain": [
       "   pedido        data  cliente   valor    categoria  qtd\n",
       "0    1001  2024-03-01      501  150.75  Eletrônicos    1\n",
       "1    1002  2024-03-02      502  200.50       Roupas    3\n",
       "2    1003  2024-03-03      503  320.00         Casa    2\n",
       "3    1004  2024-03-04      501   90.25  Eletrônicos    1\n",
       "4    1005  2024-03-05      504  450.60     Esportes    4"
      ]
     },
     "execution_count": 20,
     "metadata": {},
     "output_type": "execute_result"
    }
   ],
   "source": [
    "colunas = ['pedido', 'data', 'cliente', 'valor', 'categoria', 'qtd']\n",
    "dados.columns = colunas\n",
    "dados\n"
   ]
  },
  {
   "cell_type": "code",
   "execution_count": 21,
   "id": "0495f4b2-92a8-46f1-9e41-ab3b609e0f4b",
   "metadata": {},
   "outputs": [
    {
     "data": {
      "text/html": [
       "<div>\n",
       "<style scoped>\n",
       "    .dataframe tbody tr th:only-of-type {\n",
       "        vertical-align: middle;\n",
       "    }\n",
       "\n",
       "    .dataframe tbody tr th {\n",
       "        vertical-align: top;\n",
       "    }\n",
       "\n",
       "    .dataframe thead th {\n",
       "        text-align: right;\n",
       "    }\n",
       "</style>\n",
       "<table border=\"1\" class=\"dataframe\">\n",
       "  <thead>\n",
       "    <tr style=\"text-align: right;\">\n",
       "      <th></th>\n",
       "      <th>PEDIDO</th>\n",
       "      <th>DATA</th>\n",
       "      <th>CLIENTE</th>\n",
       "      <th>VALOR</th>\n",
       "      <th>CATEGORIA</th>\n",
       "      <th>QTD</th>\n",
       "    </tr>\n",
       "  </thead>\n",
       "  <tbody>\n",
       "    <tr>\n",
       "      <th>0</th>\n",
       "      <td>1001</td>\n",
       "      <td>2024-03-01</td>\n",
       "      <td>501</td>\n",
       "      <td>150.75</td>\n",
       "      <td>Eletrônicos</td>\n",
       "      <td>1</td>\n",
       "    </tr>\n",
       "    <tr>\n",
       "      <th>1</th>\n",
       "      <td>1002</td>\n",
       "      <td>2024-03-02</td>\n",
       "      <td>502</td>\n",
       "      <td>200.50</td>\n",
       "      <td>Roupas</td>\n",
       "      <td>3</td>\n",
       "    </tr>\n",
       "    <tr>\n",
       "      <th>2</th>\n",
       "      <td>1003</td>\n",
       "      <td>2024-03-03</td>\n",
       "      <td>503</td>\n",
       "      <td>320.00</td>\n",
       "      <td>Casa</td>\n",
       "      <td>2</td>\n",
       "    </tr>\n",
       "    <tr>\n",
       "      <th>3</th>\n",
       "      <td>1004</td>\n",
       "      <td>2024-03-04</td>\n",
       "      <td>501</td>\n",
       "      <td>90.25</td>\n",
       "      <td>Eletrônicos</td>\n",
       "      <td>1</td>\n",
       "    </tr>\n",
       "    <tr>\n",
       "      <th>4</th>\n",
       "      <td>1005</td>\n",
       "      <td>2024-03-05</td>\n",
       "      <td>504</td>\n",
       "      <td>450.60</td>\n",
       "      <td>Esportes</td>\n",
       "      <td>4</td>\n",
       "    </tr>\n",
       "  </tbody>\n",
       "</table>\n",
       "</div>"
      ],
      "text/plain": [
       "   PEDIDO        DATA  CLIENTE   VALOR    CATEGORIA  QTD\n",
       "0    1001  2024-03-01      501  150.75  Eletrônicos    1\n",
       "1    1002  2024-03-02      502  200.50       Roupas    3\n",
       "2    1003  2024-03-03      503  320.00         Casa    2\n",
       "3    1004  2024-03-04      501   90.25  Eletrônicos    1\n",
       "4    1005  2024-03-05      504  450.60     Esportes    4"
      ]
     },
     "execution_count": 21,
     "metadata": {},
     "output_type": "execute_result"
    }
   ],
   "source": [
    "colunas_minusculas = list(dados.columns)\n",
    "\n",
    "colunas_maiusculas = []\n",
    "\n",
    "for coluna in colunas_minusculas:\n",
    "    colunas_maiusculas.append(coluna.upper())\n",
    "\n",
    "dados.columns = colunas_maiusculas\n",
    "dados"
   ]
  },
  {
   "cell_type": "code",
   "execution_count": 22,
   "id": "de1999fa-fffb-492d-b42b-5cfae347b9bd",
   "metadata": {},
   "outputs": [
    {
     "data": {
      "text/plain": [
       "PEDIDO       5\n",
       "DATA         5\n",
       "CLIENTE      4\n",
       "VALOR        5\n",
       "CATEGORIA    4\n",
       "QTD          4\n",
       "dtype: int64"
      ]
     },
     "execution_count": 22,
     "metadata": {},
     "output_type": "execute_result"
    }
   ],
   "source": [
    "dados.nunique()"
   ]
  },
  {
   "cell_type": "code",
   "execution_count": 23,
   "id": "2664e7b8-47f0-441d-9a63-dea8ac2f2205",
   "metadata": {},
   "outputs": [
    {
     "data": {
      "text/html": [
       "<div>\n",
       "<style scoped>\n",
       "    .dataframe tbody tr th:only-of-type {\n",
       "        vertical-align: middle;\n",
       "    }\n",
       "\n",
       "    .dataframe tbody tr th {\n",
       "        vertical-align: top;\n",
       "    }\n",
       "\n",
       "    .dataframe thead th {\n",
       "        text-align: right;\n",
       "    }\n",
       "</style>\n",
       "<table border=\"1\" class=\"dataframe\">\n",
       "  <thead>\n",
       "    <tr style=\"text-align: right;\">\n",
       "      <th></th>\n",
       "      <th>PEDIDO</th>\n",
       "      <th>DATA</th>\n",
       "      <th>CLIENTE</th>\n",
       "      <th>VALOR</th>\n",
       "      <th>CATEGORIA</th>\n",
       "      <th>QTD</th>\n",
       "      <th>nova_data_compra</th>\n",
       "    </tr>\n",
       "  </thead>\n",
       "  <tbody>\n",
       "    <tr>\n",
       "      <th>0</th>\n",
       "      <td>1001</td>\n",
       "      <td>2024-03-01</td>\n",
       "      <td>501</td>\n",
       "      <td>150.75</td>\n",
       "      <td>Eletrônicos</td>\n",
       "      <td>1</td>\n",
       "      <td>2024-03-01</td>\n",
       "    </tr>\n",
       "    <tr>\n",
       "      <th>1</th>\n",
       "      <td>1002</td>\n",
       "      <td>2024-03-02</td>\n",
       "      <td>502</td>\n",
       "      <td>200.50</td>\n",
       "      <td>Roupas</td>\n",
       "      <td>3</td>\n",
       "      <td>2024-03-02</td>\n",
       "    </tr>\n",
       "    <tr>\n",
       "      <th>2</th>\n",
       "      <td>1003</td>\n",
       "      <td>2024-03-03</td>\n",
       "      <td>503</td>\n",
       "      <td>320.00</td>\n",
       "      <td>Casa</td>\n",
       "      <td>2</td>\n",
       "      <td>2024-03-03</td>\n",
       "    </tr>\n",
       "    <tr>\n",
       "      <th>3</th>\n",
       "      <td>1004</td>\n",
       "      <td>2024-03-04</td>\n",
       "      <td>501</td>\n",
       "      <td>90.25</td>\n",
       "      <td>Eletrônicos</td>\n",
       "      <td>1</td>\n",
       "      <td>2024-03-04</td>\n",
       "    </tr>\n",
       "    <tr>\n",
       "      <th>4</th>\n",
       "      <td>1005</td>\n",
       "      <td>2024-03-05</td>\n",
       "      <td>504</td>\n",
       "      <td>450.60</td>\n",
       "      <td>Esportes</td>\n",
       "      <td>4</td>\n",
       "      <td>2024-03-05</td>\n",
       "    </tr>\n",
       "  </tbody>\n",
       "</table>\n",
       "</div>"
      ],
      "text/plain": [
       "   PEDIDO        DATA  CLIENTE   VALOR    CATEGORIA  QTD nova_data_compra\n",
       "0    1001  2024-03-01      501  150.75  Eletrônicos    1       2024-03-01\n",
       "1    1002  2024-03-02      502  200.50       Roupas    3       2024-03-02\n",
       "2    1003  2024-03-03      503  320.00         Casa    2       2024-03-03\n",
       "3    1004  2024-03-04      501   90.25  Eletrônicos    1       2024-03-04\n",
       "4    1005  2024-03-05      504  450.60     Esportes    4       2024-03-05"
      ]
     },
     "execution_count": 23,
     "metadata": {},
     "output_type": "execute_result"
    }
   ],
   "source": [
    "dados['nova_data_compra'] = pd.to_datetime(dados['DATA'])\n",
    "\n",
    "dados"
   ]
  },
  {
   "cell_type": "code",
   "execution_count": 25,
   "id": "afbeba0b",
   "metadata": {},
   "outputs": [],
   "source": [
    "#dados[[dados['DATA']]]"
   ]
  },
  {
   "cell_type": "markdown",
   "id": "7fe5c7ef",
   "metadata": {},
   "source": [
    "# Introduzindo gráficos"
   ]
  },
  {
   "cell_type": "code",
   "execution_count": 26,
   "id": "78b900ac",
   "metadata": {},
   "outputs": [],
   "source": [
    "\n",
    "! pip install matplotlib -q\n",
    "\n"
   ]
  },
  {
   "cell_type": "code",
   "execution_count": 27,
   "id": "99879745",
   "metadata": {},
   "outputs": [],
   "source": [
    "import matplotlib.pyplot as plt"
   ]
  },
  {
   "cell_type": "code",
   "execution_count": 30,
   "id": "cad3b029",
   "metadata": {},
   "outputs": [
    {
     "data": {
      "image/png": "[encoded data removed]",
      "text/plain": [
       "<Figure size 640x480 with 1 Axes>"
      ]
     },
     "metadata": {},
     "output_type": "display_data"
    }
   ],
   "source": [
    "plt.bar(\n",
    "    dados['CATEGORIA'].unique(),\n",
    "    dados['CATEGORIA'].value_counts()\n",
    ")\n",
    "plt.show()"
   ]
  },
  {
   "cell_type": "code",
   "execution_count": null,
   "id": "3f388643",
   "metadata": {},
   "outputs": [],
   "source": []
  }
 ],
 "metadata": {
  "kernelspec": {
   "display_name": ".venv (3.12.10)",
   "language": "python",
   "name": "python3"
  },
  "language_info": {
   "codemirror_mode": {
    "name": "ipython",
    "version": 3
   },
   "file_extension": ".py",
   "mimetype": "text/x-python",
   "name": "python",
   "nbconvert_exporter": "python",
   "pygments_lexer": "ipython3",
   "version": "3.12.10"
  }
 },
 "nbformat": 4,
 "nbformat_minor": 5
}
