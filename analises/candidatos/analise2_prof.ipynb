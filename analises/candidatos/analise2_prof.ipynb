{
 "cells": [
  {
   "cell_type": "markdown",
   "id": "87e75c96",
   "metadata": {},
   "source": [
    "# analise de compras"
   ]
  },
  {
   "cell_type": "code",
   "execution_count": 1,
   "id": "ee1e9327",
   "metadata": {},
   "outputs": [],
   "source": [
    "import pandas as pd\n",
    "import matplotlib.pyplot as plt\n",
    "\n",
    "df_vendas1 = pd.read_csv('./dataset_clientes_completo.csv')\n",
    "df_vendas2 = pd.read_csv('./dataset_clientes_completo_2.csv')"
   ]
  },
  {
   "cell_type": "code",
   "execution_count": 2,
   "id": "35849a62",
   "metadata": {},
   "outputs": [
    {
     "data": {
      "text/html": [
       "<div>\n",
       "<style scoped>\n",
       "    .dataframe tbody tr th:only-of-type {\n",
       "        vertical-align: middle;\n",
       "    }\n",
       "\n",
       "    .dataframe tbody tr th {\n",
       "        vertical-align: top;\n",
       "    }\n",
       "\n",
       "    .dataframe thead th {\n",
       "        text-align: right;\n",
       "    }\n",
       "</style>\n",
       "<table border=\"1\" class=\"dataframe\">\n",
       "  <thead>\n",
       "    <tr style=\"text-align: right;\">\n",
       "      <th></th>\n",
       "      <th>nome</th>\n",
       "      <th>idade</th>\n",
       "      <th>cidade</th>\n",
       "      <th>data_nasc</th>\n",
       "      <th>renda_mensal</th>\n",
       "      <th>comprou</th>\n",
       "    </tr>\n",
       "  </thead>\n",
       "  <tbody>\n",
       "    <tr>\n",
       "      <th>0</th>\n",
       "      <td>Bruno</td>\n",
       "      <td>NaN</td>\n",
       "      <td>RJ</td>\n",
       "      <td>15/09/1984</td>\n",
       "      <td>NaN</td>\n",
       "      <td>1</td>\n",
       "    </tr>\n",
       "    <tr>\n",
       "      <th>1</th>\n",
       "      <td>NaN</td>\n",
       "      <td>59.0</td>\n",
       "      <td>SC</td>\n",
       "      <td>01/12/1978</td>\n",
       "      <td>5587.73</td>\n",
       "      <td>0</td>\n",
       "    </tr>\n",
       "    <tr>\n",
       "      <th>2</th>\n",
       "      <td>Mariane</td>\n",
       "      <td>35.0</td>\n",
       "      <td>MG</td>\n",
       "      <td>24/11/1965</td>\n",
       "      <td>4574.79</td>\n",
       "      <td>0</td>\n",
       "    </tr>\n",
       "    <tr>\n",
       "      <th>3</th>\n",
       "      <td>Murilo</td>\n",
       "      <td>70.0</td>\n",
       "      <td>MG</td>\n",
       "      <td>28/01/1989</td>\n",
       "      <td>9305.10</td>\n",
       "      <td>0</td>\n",
       "    </tr>\n",
       "    <tr>\n",
       "      <th>4</th>\n",
       "      <td>Emanuelly</td>\n",
       "      <td>NaN</td>\n",
       "      <td>SP</td>\n",
       "      <td>16/08/1984</td>\n",
       "      <td>5721.99</td>\n",
       "      <td>0</td>\n",
       "    </tr>\n",
       "  </tbody>\n",
       "</table>\n",
       "</div>"
      ],
      "text/plain": [
       "        nome  idade cidade   data_nasc  renda_mensal  comprou\n",
       "0      Bruno    NaN     RJ  15/09/1984           NaN        1\n",
       "1        NaN   59.0     SC  01/12/1978       5587.73        0\n",
       "2    Mariane   35.0     MG  24/11/1965       4574.79        0\n",
       "3     Murilo   70.0     MG  28/01/1989       9305.10        0\n",
       "4  Emanuelly    NaN     SP  16/08/1984       5721.99        0"
      ]
     },
     "execution_count": 2,
     "metadata": {},
     "output_type": "execute_result"
    }
   ],
   "source": [
    "df_vendas1.head()"
   ]
  },
  {
   "cell_type": "code",
   "execution_count": 3,
   "id": "2ef42a6c",
   "metadata": {},
   "outputs": [
    {
     "data": {
      "text/html": [
       "<div>\n",
       "<style scoped>\n",
       "    .dataframe tbody tr th:only-of-type {\n",
       "        vertical-align: middle;\n",
       "    }\n",
       "\n",
       "    .dataframe tbody tr th {\n",
       "        vertical-align: top;\n",
       "    }\n",
       "\n",
       "    .dataframe thead th {\n",
       "        text-align: right;\n",
       "    }\n",
       "</style>\n",
       "<table border=\"1\" class=\"dataframe\">\n",
       "  <thead>\n",
       "    <tr style=\"text-align: right;\">\n",
       "      <th></th>\n",
       "      <th>nome</th>\n",
       "      <th>idade</th>\n",
       "      <th>cidade</th>\n",
       "      <th>data_nasc</th>\n",
       "      <th>renda_mensal</th>\n",
       "      <th>comprou</th>\n",
       "    </tr>\n",
       "  </thead>\n",
       "  <tbody>\n",
       "    <tr>\n",
       "      <th>995</th>\n",
       "      <td>Pedro Miguel</td>\n",
       "      <td>NaN</td>\n",
       "      <td>MG</td>\n",
       "      <td>20/03/1990</td>\n",
       "      <td>12801.55</td>\n",
       "      <td>1</td>\n",
       "    </tr>\n",
       "    <tr>\n",
       "      <th>996</th>\n",
       "      <td>Luiz Gustavo</td>\n",
       "      <td>49.0</td>\n",
       "      <td>NaN</td>\n",
       "      <td>11/08/2006</td>\n",
       "      <td>7965.06</td>\n",
       "      <td>0</td>\n",
       "    </tr>\n",
       "    <tr>\n",
       "      <th>997</th>\n",
       "      <td>Maria Cecília</td>\n",
       "      <td>44.0</td>\n",
       "      <td>SP</td>\n",
       "      <td>18/07/1965</td>\n",
       "      <td>8699.10</td>\n",
       "      <td>1</td>\n",
       "    </tr>\n",
       "    <tr>\n",
       "      <th>998</th>\n",
       "      <td>Enzo Gabriel</td>\n",
       "      <td>18.0</td>\n",
       "      <td>PR</td>\n",
       "      <td>24/09/1967</td>\n",
       "      <td>NaN</td>\n",
       "      <td>0</td>\n",
       "    </tr>\n",
       "    <tr>\n",
       "      <th>999</th>\n",
       "      <td>Davi Lucca</td>\n",
       "      <td>57.0</td>\n",
       "      <td>NaN</td>\n",
       "      <td>16/09/1995</td>\n",
       "      <td>7370.99</td>\n",
       "      <td>0</td>\n",
       "    </tr>\n",
       "  </tbody>\n",
       "</table>\n",
       "</div>"
      ],
      "text/plain": [
       "              nome  idade cidade   data_nasc  renda_mensal  comprou\n",
       "995   Pedro Miguel    NaN     MG  20/03/1990      12801.55        1\n",
       "996   Luiz Gustavo   49.0    NaN  11/08/2006       7965.06        0\n",
       "997  Maria Cecília   44.0     SP  18/07/1965       8699.10        1\n",
       "998   Enzo Gabriel   18.0     PR  24/09/1967           NaN        0\n",
       "999     Davi Lucca   57.0    NaN  16/09/1995       7370.99        0"
      ]
     },
     "execution_count": 3,
     "metadata": {},
     "output_type": "execute_result"
    }
   ],
   "source": [
    "df_vendas1.tail()"
   ]
  },
  {
   "cell_type": "code",
   "execution_count": 4,
   "id": "4b13ea93",
   "metadata": {},
   "outputs": [
    {
     "name": "stdout",
     "output_type": "stream",
     "text": [
      "<class 'pandas.core.frame.DataFrame'>\n",
      "RangeIndex: 1000 entries, 0 to 999\n",
      "Data columns (total 6 columns):\n",
      " #   Column        Non-Null Count  Dtype  \n",
      "---  ------        --------------  -----  \n",
      " 0   nome          970 non-null    object \n",
      " 1   idade         904 non-null    float64\n",
      " 2   cidade        954 non-null    object \n",
      " 3   data_nasc     984 non-null    object \n",
      " 4   renda_mensal  765 non-null    float64\n",
      " 5   comprou       1000 non-null   int64  \n",
      "dtypes: float64(2), int64(1), object(3)\n",
      "memory usage: 47.0+ KB\n"
     ]
    }
   ],
   "source": [
    "df_vendas1.info()"
   ]
  },
  {
   "cell_type": "code",
   "execution_count": 5,
   "id": "07618b43",
   "metadata": {},
   "outputs": [
    {
     "data": {
      "text/html": [
       "<div>\n",
       "<style scoped>\n",
       "    .dataframe tbody tr th:only-of-type {\n",
       "        vertical-align: middle;\n",
       "    }\n",
       "\n",
       "    .dataframe tbody tr th {\n",
       "        vertical-align: top;\n",
       "    }\n",
       "\n",
       "    .dataframe thead th {\n",
       "        text-align: right;\n",
       "    }\n",
       "</style>\n",
       "<table border=\"1\" class=\"dataframe\">\n",
       "  <thead>\n",
       "    <tr style=\"text-align: right;\">\n",
       "      <th></th>\n",
       "      <th>nome</th>\n",
       "      <th>idade</th>\n",
       "      <th>cidade</th>\n",
       "      <th>data_nasc</th>\n",
       "      <th>renda_mensal</th>\n",
       "      <th>comprou</th>\n",
       "    </tr>\n",
       "  </thead>\n",
       "  <tbody>\n",
       "    <tr>\n",
       "      <th>0</th>\n",
       "      <td>Bárbara</td>\n",
       "      <td>36.0</td>\n",
       "      <td>RJ</td>\n",
       "      <td>28/04/1984</td>\n",
       "      <td>4865.29</td>\n",
       "      <td>1</td>\n",
       "    </tr>\n",
       "    <tr>\n",
       "      <th>1</th>\n",
       "      <td>Luiz Fernando</td>\n",
       "      <td>65.0</td>\n",
       "      <td>RJ</td>\n",
       "      <td>01/11/1966</td>\n",
       "      <td>1717.13</td>\n",
       "      <td>1</td>\n",
       "    </tr>\n",
       "    <tr>\n",
       "      <th>2</th>\n",
       "      <td>Noah</td>\n",
       "      <td>57.0</td>\n",
       "      <td>RJ</td>\n",
       "      <td>09/03/1985</td>\n",
       "      <td>14725.78</td>\n",
       "      <td>1</td>\n",
       "    </tr>\n",
       "    <tr>\n",
       "      <th>3</th>\n",
       "      <td>Diego</td>\n",
       "      <td>58.0</td>\n",
       "      <td>SP</td>\n",
       "      <td>01/10/1973</td>\n",
       "      <td>7915.17</td>\n",
       "      <td>1</td>\n",
       "    </tr>\n",
       "    <tr>\n",
       "      <th>4</th>\n",
       "      <td>João Lucas</td>\n",
       "      <td>27.0</td>\n",
       "      <td>SP</td>\n",
       "      <td>08/07/2003</td>\n",
       "      <td>14084.05</td>\n",
       "      <td>0</td>\n",
       "    </tr>\n",
       "  </tbody>\n",
       "</table>\n",
       "</div>"
      ],
      "text/plain": [
       "            nome  idade cidade   data_nasc  renda_mensal  comprou\n",
       "0        Bárbara   36.0     RJ  28/04/1984       4865.29        1\n",
       "1  Luiz Fernando   65.0     RJ  01/11/1966       1717.13        1\n",
       "2           Noah   57.0     RJ  09/03/1985      14725.78        1\n",
       "3          Diego   58.0     SP  01/10/1973       7915.17        1\n",
       "4     João Lucas   27.0     SP  08/07/2003      14084.05        0"
      ]
     },
     "execution_count": 5,
     "metadata": {},
     "output_type": "execute_result"
    }
   ],
   "source": [
    "df_vendas2.head()"
   ]
  },
  {
   "cell_type": "code",
   "execution_count": 6,
   "id": "04cfcf6d",
   "metadata": {},
   "outputs": [
    {
     "data": {
      "text/html": [
       "<div>\n",
       "<style scoped>\n",
       "    .dataframe tbody tr th:only-of-type {\n",
       "        vertical-align: middle;\n",
       "    }\n",
       "\n",
       "    .dataframe tbody tr th {\n",
       "        vertical-align: top;\n",
       "    }\n",
       "\n",
       "    .dataframe thead th {\n",
       "        text-align: right;\n",
       "    }\n",
       "</style>\n",
       "<table border=\"1\" class=\"dataframe\">\n",
       "  <thead>\n",
       "    <tr style=\"text-align: right;\">\n",
       "      <th></th>\n",
       "      <th>nome</th>\n",
       "      <th>idade</th>\n",
       "      <th>cidade</th>\n",
       "      <th>data_nasc</th>\n",
       "      <th>renda_mensal</th>\n",
       "      <th>comprou</th>\n",
       "    </tr>\n",
       "  </thead>\n",
       "  <tbody>\n",
       "    <tr>\n",
       "      <th>995</th>\n",
       "      <td>Maria Cecília</td>\n",
       "      <td>27.0</td>\n",
       "      <td>SP</td>\n",
       "      <td>19/06/1983</td>\n",
       "      <td>11010.54</td>\n",
       "      <td>1</td>\n",
       "    </tr>\n",
       "    <tr>\n",
       "      <th>996</th>\n",
       "      <td>Fernanda</td>\n",
       "      <td>67.0</td>\n",
       "      <td>BA</td>\n",
       "      <td>02/09/1998</td>\n",
       "      <td>5494.28</td>\n",
       "      <td>1</td>\n",
       "    </tr>\n",
       "    <tr>\n",
       "      <th>997</th>\n",
       "      <td>Fernanda</td>\n",
       "      <td>35.0</td>\n",
       "      <td>NaN</td>\n",
       "      <td>31/03/1962</td>\n",
       "      <td>2253.63</td>\n",
       "      <td>0</td>\n",
       "    </tr>\n",
       "    <tr>\n",
       "      <th>998</th>\n",
       "      <td>Helena</td>\n",
       "      <td>28.0</td>\n",
       "      <td>RS</td>\n",
       "      <td>29/05/1994</td>\n",
       "      <td>7870.88</td>\n",
       "      <td>1</td>\n",
       "    </tr>\n",
       "    <tr>\n",
       "      <th>999</th>\n",
       "      <td>Maria Eduarda</td>\n",
       "      <td>18.0</td>\n",
       "      <td>BA</td>\n",
       "      <td>12/07/1967</td>\n",
       "      <td>10881.54</td>\n",
       "      <td>1</td>\n",
       "    </tr>\n",
       "  </tbody>\n",
       "</table>\n",
       "</div>"
      ],
      "text/plain": [
       "              nome  idade cidade   data_nasc  renda_mensal  comprou\n",
       "995  Maria Cecília   27.0     SP  19/06/1983      11010.54        1\n",
       "996       Fernanda   67.0     BA  02/09/1998       5494.28        1\n",
       "997       Fernanda   35.0    NaN  31/03/1962       2253.63        0\n",
       "998         Helena   28.0     RS  29/05/1994       7870.88        1\n",
       "999  Maria Eduarda   18.0     BA  12/07/1967      10881.54        1"
      ]
     },
     "execution_count": 6,
     "metadata": {},
     "output_type": "execute_result"
    }
   ],
   "source": [
    "df_vendas2.tail()"
   ]
  },
  {
   "cell_type": "code",
   "execution_count": 7,
   "id": "48f56033",
   "metadata": {},
   "outputs": [
    {
     "name": "stdout",
     "output_type": "stream",
     "text": [
      "<class 'pandas.core.frame.DataFrame'>\n",
      "RangeIndex: 1000 entries, 0 to 999\n",
      "Data columns (total 6 columns):\n",
      " #   Column        Non-Null Count  Dtype  \n",
      "---  ------        --------------  -----  \n",
      " 0   nome          960 non-null    object \n",
      " 1   idade         951 non-null    float64\n",
      " 2   cidade        900 non-null    object \n",
      " 3   data_nasc     992 non-null    object \n",
      " 4   renda_mensal  790 non-null    float64\n",
      " 5   comprou       1000 non-null   int64  \n",
      "dtypes: float64(2), int64(1), object(3)\n",
      "memory usage: 47.0+ KB\n"
     ]
    }
   ],
   "source": [
    "df_vendas2.info()"
   ]
  },
  {
   "cell_type": "code",
   "execution_count": 8,
   "id": "71cb5f77",
   "metadata": {},
   "outputs": [
    {
     "data": {
      "text/html": [
       "<div>\n",
       "<style scoped>\n",
       "    .dataframe tbody tr th:only-of-type {\n",
       "        vertical-align: middle;\n",
       "    }\n",
       "\n",
       "    .dataframe tbody tr th {\n",
       "        vertical-align: top;\n",
       "    }\n",
       "\n",
       "    .dataframe thead th {\n",
       "        text-align: right;\n",
       "    }\n",
       "</style>\n",
       "<table border=\"1\" class=\"dataframe\">\n",
       "  <thead>\n",
       "    <tr style=\"text-align: right;\">\n",
       "      <th></th>\n",
       "      <th>nome</th>\n",
       "      <th>idade</th>\n",
       "      <th>cidade</th>\n",
       "      <th>data_nasc</th>\n",
       "      <th>renda_mensal</th>\n",
       "      <th>comprou</th>\n",
       "    </tr>\n",
       "  </thead>\n",
       "  <tbody>\n",
       "    <tr>\n",
       "      <th>0</th>\n",
       "      <td>Bruno</td>\n",
       "      <td>NaN</td>\n",
       "      <td>RJ</td>\n",
       "      <td>15/09/1984</td>\n",
       "      <td>NaN</td>\n",
       "      <td>1</td>\n",
       "    </tr>\n",
       "    <tr>\n",
       "      <th>1</th>\n",
       "      <td>NaN</td>\n",
       "      <td>59.0</td>\n",
       "      <td>SC</td>\n",
       "      <td>01/12/1978</td>\n",
       "      <td>5587.73</td>\n",
       "      <td>0</td>\n",
       "    </tr>\n",
       "    <tr>\n",
       "      <th>2</th>\n",
       "      <td>Mariane</td>\n",
       "      <td>35.0</td>\n",
       "      <td>MG</td>\n",
       "      <td>24/11/1965</td>\n",
       "      <td>4574.79</td>\n",
       "      <td>0</td>\n",
       "    </tr>\n",
       "    <tr>\n",
       "      <th>3</th>\n",
       "      <td>Murilo</td>\n",
       "      <td>70.0</td>\n",
       "      <td>MG</td>\n",
       "      <td>28/01/1989</td>\n",
       "      <td>9305.10</td>\n",
       "      <td>0</td>\n",
       "    </tr>\n",
       "    <tr>\n",
       "      <th>4</th>\n",
       "      <td>Emanuelly</td>\n",
       "      <td>NaN</td>\n",
       "      <td>SP</td>\n",
       "      <td>16/08/1984</td>\n",
       "      <td>5721.99</td>\n",
       "      <td>0</td>\n",
       "    </tr>\n",
       "    <tr>\n",
       "      <th>...</th>\n",
       "      <td>...</td>\n",
       "      <td>...</td>\n",
       "      <td>...</td>\n",
       "      <td>...</td>\n",
       "      <td>...</td>\n",
       "      <td>...</td>\n",
       "    </tr>\n",
       "    <tr>\n",
       "      <th>1995</th>\n",
       "      <td>Maria Cecília</td>\n",
       "      <td>27.0</td>\n",
       "      <td>SP</td>\n",
       "      <td>19/06/1983</td>\n",
       "      <td>11010.54</td>\n",
       "      <td>1</td>\n",
       "    </tr>\n",
       "    <tr>\n",
       "      <th>1996</th>\n",
       "      <td>Fernanda</td>\n",
       "      <td>67.0</td>\n",
       "      <td>BA</td>\n",
       "      <td>02/09/1998</td>\n",
       "      <td>5494.28</td>\n",
       "      <td>1</td>\n",
       "    </tr>\n",
       "    <tr>\n",
       "      <th>1997</th>\n",
       "      <td>Fernanda</td>\n",
       "      <td>35.0</td>\n",
       "      <td>NaN</td>\n",
       "      <td>31/03/1962</td>\n",
       "      <td>2253.63</td>\n",
       "      <td>0</td>\n",
       "    </tr>\n",
       "    <tr>\n",
       "      <th>1998</th>\n",
       "      <td>Helena</td>\n",
       "      <td>28.0</td>\n",
       "      <td>RS</td>\n",
       "      <td>29/05/1994</td>\n",
       "      <td>7870.88</td>\n",
       "      <td>1</td>\n",
       "    </tr>\n",
       "    <tr>\n",
       "      <th>1999</th>\n",
       "      <td>Maria Eduarda</td>\n",
       "      <td>18.0</td>\n",
       "      <td>BA</td>\n",
       "      <td>12/07/1967</td>\n",
       "      <td>10881.54</td>\n",
       "      <td>1</td>\n",
       "    </tr>\n",
       "  </tbody>\n",
       "</table>\n",
       "<p>2000 rows × 6 columns</p>\n",
       "</div>"
      ],
      "text/plain": [
       "               nome  idade cidade   data_nasc  renda_mensal  comprou\n",
       "0             Bruno    NaN     RJ  15/09/1984           NaN        1\n",
       "1               NaN   59.0     SC  01/12/1978       5587.73        0\n",
       "2           Mariane   35.0     MG  24/11/1965       4574.79        0\n",
       "3            Murilo   70.0     MG  28/01/1989       9305.10        0\n",
       "4         Emanuelly    NaN     SP  16/08/1984       5721.99        0\n",
       "...             ...    ...    ...         ...           ...      ...\n",
       "1995  Maria Cecília   27.0     SP  19/06/1983      11010.54        1\n",
       "1996       Fernanda   67.0     BA  02/09/1998       5494.28        1\n",
       "1997       Fernanda   35.0    NaN  31/03/1962       2253.63        0\n",
       "1998         Helena   28.0     RS  29/05/1994       7870.88        1\n",
       "1999  Maria Eduarda   18.0     BA  12/07/1967      10881.54        1\n",
       "\n",
       "[2000 rows x 6 columns]"
      ]
     },
     "execution_count": 8,
     "metadata": {},
     "output_type": "execute_result"
    }
   ],
   "source": [
    "df = pd.concat([df_vendas1, df_vendas2], ignore_index=True)\n",
    "\n",
    "df"
   ]
  },
  {
   "cell_type": "code",
   "execution_count": 9,
   "id": "c3856c2e",
   "metadata": {},
   "outputs": [
    {
     "name": "stdout",
     "output_type": "stream",
     "text": [
      "<class 'pandas.core.frame.DataFrame'>\n",
      "RangeIndex: 2000 entries, 0 to 1999\n",
      "Data columns (total 6 columns):\n",
      " #   Column        Non-Null Count  Dtype  \n",
      "---  ------        --------------  -----  \n",
      " 0   nome          1930 non-null   object \n",
      " 1   idade         1855 non-null   float64\n",
      " 2   cidade        1854 non-null   object \n",
      " 3   data_nasc     1976 non-null   object \n",
      " 4   renda_mensal  1555 non-null   float64\n",
      " 5   comprou       2000 non-null   int64  \n",
      "dtypes: float64(2), int64(1), object(3)\n",
      "memory usage: 93.9+ KB\n"
     ]
    }
   ],
   "source": [
    "df.info()"
   ]
  },
  {
   "cell_type": "code",
   "execution_count": 10,
   "id": "f5449447",
   "metadata": {},
   "outputs": [
    {
     "data": {
      "text/plain": [
       "cidade\n",
       "SP    574\n",
       "RJ    440\n",
       "MG    374\n",
       "BA    175\n",
       "RS    104\n",
       "SC     99\n",
       "PR     88\n",
       "Name: count, dtype: int64"
      ]
     },
     "execution_count": 10,
     "metadata": {},
     "output_type": "execute_result"
    }
   ],
   "source": [
    "df['cidade'].value_counts()"
   ]
  },
  {
   "cell_type": "code",
   "execution_count": 11,
   "id": "3f114234",
   "metadata": {},
   "outputs": [
    {
     "data": {
      "image/png": "[encoded data removed]",
      "text/plain": [
       "<Figure size 640x480 with 1 Axes>"
      ]
     },
     "metadata": {},
     "output_type": "display_data"
    }
   ],
   "source": [
    "# df['cidade'].value_counts().plot( kind='bar')\n",
    "cidades = df['cidade'].value_counts()\n",
    "\n",
    "plt.bar(cidades.index, cidades.values)\n",
    "plt.show()\n"
   ]
  },
  {
   "cell_type": "code",
   "execution_count": 12,
   "id": "9a508261",
   "metadata": {},
   "outputs": [
    {
     "name": "stdout",
     "output_type": "stream",
     "text": [
      "Menor renda: 1200.49\n",
      "Maior renda: 14999.37\n",
      "Renda media: 7963.07\n",
      "Mediana: 8002.91\n"
     ]
    }
   ],
   "source": [
    "print(f'Menor renda: {df['renda_mensal'].min()}')\n",
    "print(f'Maior renda: {df['renda_mensal'].max()}')\n",
    "print(f'Renda media: {round(df['renda_mensal'].mean(),2)}')\n",
    "print(f'Mediana: {df['renda_mensal'].median()}')"
   ]
  },
  {
   "cell_type": "code",
   "execution_count": 13,
   "id": "347097ef",
   "metadata": {},
   "outputs": [
    {
     "data": {
      "text/plain": [
       "<Axes: xlabel='cidade'>"
      ]
     },
     "execution_count": 13,
     "metadata": {},
     "output_type": "execute_result"
    },
    {
     "data": {
      "image/png": "[encoded data removed]",
      "text/plain": [
       "<Figure size 640x480 with 1 Axes>"
      ]
     },
     "metadata": {},
     "output_type": "display_data"
    }
   ],
   "source": [
    "df.groupby('cidade')['renda_mensal'].mean().plot(kind='bar')"
   ]
  },
  {
   "cell_type": "code",
   "execution_count": 14,
   "id": "0afc8c3d",
   "metadata": {},
   "outputs": [
    {
     "data": {
      "image/png": "[encoded data removed]",
      "text/plain": [
       "<Figure size 640x480 with 1 Axes>"
      ]
     },
     "metadata": {},
     "output_type": "display_data"
    }
   ],
   "source": [
    "plt.hist(df['renda_mensal'])\n",
    "plt.show()"
   ]
  },
  {
   "cell_type": "code",
   "execution_count": 15,
   "id": "3989b870",
   "metadata": {},
   "outputs": [
    {
     "data": {
      "text/plain": [
       "<Axes: xlabel='idade'>"
      ]
     },
     "execution_count": 15,
     "metadata": {},
     "output_type": "execute_result"
    },
    {
     "data": {
      "image/png": "[encoded data removed]",
      "text/plain": [
       "<Figure size 640x480 with 1 Axes>"
      ]
     },
     "metadata": {},
     "output_type": "display_data"
    }
   ],
   "source": [
    "df.groupby('idade')['renda_mensal'].mean().plot(kind='bar')"
   ]
  },
  {
   "cell_type": "code",
   "execution_count": 16,
   "id": "74aa312d",
   "metadata": {},
   "outputs": [
    {
     "data": {
      "image/png": "[encoded data removed]",
      "text/plain": [
       "<Figure size 640x480 with 1 Axes>"
      ]
     },
     "metadata": {},
     "output_type": "display_data"
    }
   ],
   "source": [
    "plt.hist(df.groupby('idade')['renda_mensal'].mean())\n",
    "plt.show()"
   ]
  },
  {
   "cell_type": "code",
   "execution_count": 17,
   "id": "38bf3e05",
   "metadata": {},
   "outputs": [
    {
     "data": {
      "text/plain": [
       "idade\n",
       "18.0     7314.753810\n",
       "19.0     7849.690417\n",
       "20.0     7016.362083\n",
       "21.0     7468.854783\n",
       "22.0     8431.715652\n",
       "23.0     7594.763704\n",
       "24.0     7838.927742\n",
       "25.0     8546.710455\n",
       "26.0     7812.110714\n",
       "27.0     8438.477500\n",
       "28.0     7504.017333\n",
       "29.0     7981.040526\n",
       "30.0     5598.931429\n",
       "31.0     8903.464783\n",
       "32.0     5774.171250\n",
       "33.0     8036.962083\n",
       "34.0     6862.616364\n",
       "35.0     7441.473030\n",
       "36.0    10136.652414\n",
       "37.0     8489.166667\n",
       "38.0     7493.709167\n",
       "39.0     6902.121714\n",
       "40.0     8584.764583\n",
       "41.0     8498.220769\n",
       "42.0     7654.985000\n",
       "43.0     8126.980000\n",
       "44.0     8140.513929\n",
       "45.0     7705.502381\n",
       "46.0     8063.839615\n",
       "47.0     8768.466957\n",
       "48.0     7969.979286\n",
       "49.0     7238.307143\n",
       "50.0     8115.677222\n",
       "51.0     6815.387143\n",
       "52.0     7445.516087\n",
       "53.0     7873.505610\n",
       "54.0     9014.567442\n",
       "55.0     8370.321739\n",
       "56.0     8133.068710\n",
       "57.0     8359.516071\n",
       "58.0     6925.841154\n",
       "59.0     8710.562727\n",
       "60.0     8789.448929\n",
       "61.0     8170.098750\n",
       "62.0     8904.846400\n",
       "63.0     7965.293333\n",
       "64.0     7738.443171\n",
       "65.0     8283.916000\n",
       "66.0     8782.892121\n",
       "67.0     8696.355946\n",
       "68.0     8630.402333\n",
       "69.0     8155.315517\n",
       "70.0     8387.347727\n",
       "Name: renda_mensal, dtype: float64"
      ]
     },
     "metadata": {},
     "output_type": "display_data"
    }
   ],
   "source": [
    "display(df.groupby('idade')['renda_mensal'].mean())"
   ]
  },
  {
   "cell_type": "code",
   "execution_count": 18,
   "id": "00df4951",
   "metadata": {},
   "outputs": [
    {
     "name": "stdout",
     "output_type": "stream",
     "text": [
      "comprou\n",
      "0    1282\n",
      "1     718\n",
      "Name: count, dtype: int64\n"
     ]
    },
    {
     "data": {
      "text/plain": [
       "<Axes: xlabel='comprou'>"
      ]
     },
     "execution_count": 18,
     "metadata": {},
     "output_type": "execute_result"
    },
    {
     "data": {
      "image/png": "[encoded data removed]",
      "text/plain": [
       "<Figure size 640x480 with 1 Axes>"
      ]
     },
     "metadata": {},
     "output_type": "display_data"
    }
   ],
   "source": [
    "#comprou = df['comprou'].value_counts()\n",
    "print(df['comprou'].value_counts())\n",
    "df['comprou'].value_counts().plot(kind='bar')"
   ]
  },
  {
   "cell_type": "code",
   "execution_count": 19,
   "id": "bb137075",
   "metadata": {},
   "outputs": [
    {
     "data": {
      "text/html": [
       "<div>\n",
       "<style scoped>\n",
       "    .dataframe tbody tr th:only-of-type {\n",
       "        vertical-align: middle;\n",
       "    }\n",
       "\n",
       "    .dataframe tbody tr th {\n",
       "        vertical-align: top;\n",
       "    }\n",
       "\n",
       "    .dataframe thead th {\n",
       "        text-align: right;\n",
       "    }\n",
       "</style>\n",
       "<table border=\"1\" class=\"dataframe\">\n",
       "  <thead>\n",
       "    <tr style=\"text-align: right;\">\n",
       "      <th></th>\n",
       "      <th>idade</th>\n",
       "      <th>renda_mensal</th>\n",
       "      <th>comprou</th>\n",
       "    </tr>\n",
       "  </thead>\n",
       "  <tbody>\n",
       "    <tr>\n",
       "      <th>count</th>\n",
       "      <td>1855.000000</td>\n",
       "      <td>1555.000000</td>\n",
       "      <td>2000.000000</td>\n",
       "    </tr>\n",
       "    <tr>\n",
       "      <th>mean</th>\n",
       "      <td>44.858221</td>\n",
       "      <td>7963.066765</td>\n",
       "      <td>0.359000</td>\n",
       "    </tr>\n",
       "    <tr>\n",
       "      <th>std</th>\n",
       "      <td>15.147703</td>\n",
       "      <td>3993.210343</td>\n",
       "      <td>0.479827</td>\n",
       "    </tr>\n",
       "    <tr>\n",
       "      <th>min</th>\n",
       "      <td>18.000000</td>\n",
       "      <td>1200.490000</td>\n",
       "      <td>0.000000</td>\n",
       "    </tr>\n",
       "    <tr>\n",
       "      <th>25%</th>\n",
       "      <td>32.000000</td>\n",
       "      <td>4475.440000</td>\n",
       "      <td>0.000000</td>\n",
       "    </tr>\n",
       "    <tr>\n",
       "      <th>50%</th>\n",
       "      <td>45.000000</td>\n",
       "      <td>8002.910000</td>\n",
       "      <td>0.000000</td>\n",
       "    </tr>\n",
       "    <tr>\n",
       "      <th>75%</th>\n",
       "      <td>58.000000</td>\n",
       "      <td>11439.460000</td>\n",
       "      <td>1.000000</td>\n",
       "    </tr>\n",
       "    <tr>\n",
       "      <th>max</th>\n",
       "      <td>70.000000</td>\n",
       "      <td>14999.370000</td>\n",
       "      <td>1.000000</td>\n",
       "    </tr>\n",
       "  </tbody>\n",
       "</table>\n",
       "</div>"
      ],
      "text/plain": [
       "             idade  renda_mensal      comprou\n",
       "count  1855.000000   1555.000000  2000.000000\n",
       "mean     44.858221   7963.066765     0.359000\n",
       "std      15.147703   3993.210343     0.479827\n",
       "min      18.000000   1200.490000     0.000000\n",
       "25%      32.000000   4475.440000     0.000000\n",
       "50%      45.000000   8002.910000     0.000000\n",
       "75%      58.000000  11439.460000     1.000000\n",
       "max      70.000000  14999.370000     1.000000"
      ]
     },
     "execution_count": 19,
     "metadata": {},
     "output_type": "execute_result"
    }
   ],
   "source": [
    "df.describe()"
   ]
  },
  {
   "cell_type": "code",
   "execution_count": 20,
   "id": "31a852e4",
   "metadata": {},
   "outputs": [
    {
     "name": "stderr",
     "output_type": "stream",
     "text": [
      "C:\\Users\\Professor\\AppData\\Local\\Temp\\ipykernel_10092\\3470263599.py:8: UserWarning: Parsing dates in %d/%m/%Y format when dayfirst=False (the default) was specified. Pass `dayfirst=True` or specify a format to silence this warning.\n",
      "  df['nascimento'] = pd.to_datetime(df['data_nasc'], errors='coerce')\n"
     ]
    },
    {
     "data": {
      "text/html": [
       "<div>\n",
       "<style scoped>\n",
       "    .dataframe tbody tr th:only-of-type {\n",
       "        vertical-align: middle;\n",
       "    }\n",
       "\n",
       "    .dataframe tbody tr th {\n",
       "        vertical-align: top;\n",
       "    }\n",
       "\n",
       "    .dataframe thead th {\n",
       "        text-align: right;\n",
       "    }\n",
       "</style>\n",
       "<table border=\"1\" class=\"dataframe\">\n",
       "  <thead>\n",
       "    <tr style=\"text-align: right;\">\n",
       "      <th></th>\n",
       "      <th>idade</th>\n",
       "      <th>uf</th>\n",
       "      <th>renda_mensal</th>\n",
       "      <th>comprou</th>\n",
       "      <th>nascimento</th>\n",
       "    </tr>\n",
       "  </thead>\n",
       "  <tbody>\n",
       "    <tr>\n",
       "      <th>0</th>\n",
       "      <td>NaN</td>\n",
       "      <td>RJ</td>\n",
       "      <td>NaN</td>\n",
       "      <td>1</td>\n",
       "      <td>1984-09-15</td>\n",
       "    </tr>\n",
       "    <tr>\n",
       "      <th>1</th>\n",
       "      <td>59.0</td>\n",
       "      <td>SC</td>\n",
       "      <td>5587.73</td>\n",
       "      <td>0</td>\n",
       "      <td>1978-12-01</td>\n",
       "    </tr>\n",
       "    <tr>\n",
       "      <th>2</th>\n",
       "      <td>35.0</td>\n",
       "      <td>MG</td>\n",
       "      <td>4574.79</td>\n",
       "      <td>0</td>\n",
       "      <td>1965-11-24</td>\n",
       "    </tr>\n",
       "    <tr>\n",
       "      <th>3</th>\n",
       "      <td>70.0</td>\n",
       "      <td>MG</td>\n",
       "      <td>9305.10</td>\n",
       "      <td>0</td>\n",
       "      <td>1989-01-28</td>\n",
       "    </tr>\n",
       "    <tr>\n",
       "      <th>4</th>\n",
       "      <td>NaN</td>\n",
       "      <td>SP</td>\n",
       "      <td>5721.99</td>\n",
       "      <td>0</td>\n",
       "      <td>1984-08-16</td>\n",
       "    </tr>\n",
       "    <tr>\n",
       "      <th>...</th>\n",
       "      <td>...</td>\n",
       "      <td>...</td>\n",
       "      <td>...</td>\n",
       "      <td>...</td>\n",
       "      <td>...</td>\n",
       "    </tr>\n",
       "    <tr>\n",
       "      <th>1995</th>\n",
       "      <td>27.0</td>\n",
       "      <td>SP</td>\n",
       "      <td>11010.54</td>\n",
       "      <td>1</td>\n",
       "      <td>1983-06-19</td>\n",
       "    </tr>\n",
       "    <tr>\n",
       "      <th>1996</th>\n",
       "      <td>67.0</td>\n",
       "      <td>BA</td>\n",
       "      <td>5494.28</td>\n",
       "      <td>1</td>\n",
       "      <td>1998-09-02</td>\n",
       "    </tr>\n",
       "    <tr>\n",
       "      <th>1997</th>\n",
       "      <td>35.0</td>\n",
       "      <td>NaN</td>\n",
       "      <td>2253.63</td>\n",
       "      <td>0</td>\n",
       "      <td>1962-03-31</td>\n",
       "    </tr>\n",
       "    <tr>\n",
       "      <th>1998</th>\n",
       "      <td>28.0</td>\n",
       "      <td>RS</td>\n",
       "      <td>7870.88</td>\n",
       "      <td>1</td>\n",
       "      <td>1994-05-29</td>\n",
       "    </tr>\n",
       "    <tr>\n",
       "      <th>1999</th>\n",
       "      <td>18.0</td>\n",
       "      <td>BA</td>\n",
       "      <td>10881.54</td>\n",
       "      <td>1</td>\n",
       "      <td>1967-07-12</td>\n",
       "    </tr>\n",
       "  </tbody>\n",
       "</table>\n",
       "<p>2000 rows × 5 columns</p>\n",
       "</div>"
      ],
      "text/plain": [
       "      idade   uf  renda_mensal  comprou nascimento\n",
       "0       NaN   RJ           NaN        1 1984-09-15\n",
       "1      59.0   SC       5587.73        0 1978-12-01\n",
       "2      35.0   MG       4574.79        0 1965-11-24\n",
       "3      70.0   MG       9305.10        0 1989-01-28\n",
       "4       NaN   SP       5721.99        0 1984-08-16\n",
       "...     ...  ...           ...      ...        ...\n",
       "1995   27.0   SP      11010.54        1 1983-06-19\n",
       "1996   67.0   BA       5494.28        1 1998-09-02\n",
       "1997   35.0  NaN       2253.63        0 1962-03-31\n",
       "1998   28.0   RS       7870.88        1 1994-05-29\n",
       "1999   18.0   BA      10881.54        1 1967-07-12\n",
       "\n",
       "[2000 rows x 5 columns]"
      ]
     },
     "execution_count": 20,
     "metadata": {},
     "output_type": "execute_result"
    }
   ],
   "source": [
    "# renomaeando a cidade para uf\n",
    "df.rename(columns={'cidade':'uf'}, inplace=True)\n",
    "\n",
    "# exluindo a série nome\n",
    "df.drop('nome', axis=1, inplace=True)\n",
    "\n",
    "# convertendo datas para datetime\n",
    "df['nascimento'] = pd.to_datetime(df['data_nasc'], errors='coerce')\n",
    "\n",
    "df.drop('data_nasc', axis=1, inplace=True)\n",
    "\n",
    "df"
   ]
  },
  {
   "cell_type": "code",
   "execution_count": 21,
   "id": "ba65a973",
   "metadata": {},
   "outputs": [
    {
     "name": "stdout",
     "output_type": "stream",
     "text": [
      "<class 'pandas.core.frame.DataFrame'>\n",
      "RangeIndex: 2000 entries, 0 to 1999\n",
      "Data columns (total 5 columns):\n",
      " #   Column        Non-Null Count  Dtype         \n",
      "---  ------        --------------  -----         \n",
      " 0   idade         1855 non-null   float64       \n",
      " 1   uf            1854 non-null   object        \n",
      " 2   renda_mensal  1555 non-null   float64       \n",
      " 3   comprou       2000 non-null   int64         \n",
      " 4   nascimento    1917 non-null   datetime64[ns]\n",
      "dtypes: datetime64[ns](1), float64(2), int64(1), object(1)\n",
      "memory usage: 78.3+ KB\n"
     ]
    }
   ],
   "source": [
    "df.info()"
   ]
  },
  {
   "cell_type": "code",
   "execution_count": 22,
   "id": "bc34f78b",
   "metadata": {},
   "outputs": [
    {
     "name": "stdout",
     "output_type": "stream",
     "text": [
      "<class 'pandas.core.frame.DataFrame'>\n",
      "Index: 1917 entries, 0 to 1999\n",
      "Data columns (total 5 columns):\n",
      " #   Column        Non-Null Count  Dtype         \n",
      "---  ------        --------------  -----         \n",
      " 0   idade         1780 non-null   float64       \n",
      " 1   uf            1778 non-null   object        \n",
      " 2   renda_mensal  1491 non-null   float64       \n",
      " 3   comprou       1917 non-null   int64         \n",
      " 4   nascimento    1917 non-null   datetime64[ns]\n",
      "dtypes: datetime64[ns](1), float64(2), int64(1), object(1)\n",
      "memory usage: 89.9+ KB\n"
     ]
    }
   ],
   "source": [
    "df.dropna(subset=['nascimento'], inplace=True)\n",
    "\n",
    "df.info()"
   ]
  },
  {
   "cell_type": "code",
   "execution_count": 23,
   "id": "d6766109",
   "metadata": {},
   "outputs": [
    {
     "name": "stdout",
     "output_type": "stream",
     "text": [
      "<class 'pandas.core.frame.DataFrame'>\n",
      "Index: 1917 entries, 0 to 1999\n",
      "Data columns (total 5 columns):\n",
      " #   Column        Non-Null Count  Dtype         \n",
      "---  ------        --------------  -----         \n",
      " 0   idade         1780 non-null   float64       \n",
      " 1   uf            1917 non-null   object        \n",
      " 2   renda_mensal  1491 non-null   float64       \n",
      " 3   comprou       1917 non-null   int64         \n",
      " 4   nascimento    1917 non-null   datetime64[ns]\n",
      "dtypes: datetime64[ns](1), float64(2), int64(1), object(1)\n",
      "memory usage: 89.9+ KB\n"
     ]
    },
    {
     "name": "stderr",
     "output_type": "stream",
     "text": [
      "C:\\Users\\Professor\\AppData\\Local\\Temp\\ipykernel_10092\\2365896793.py:2: FutureWarning: A value is trying to be set on a copy of a DataFrame or Series through chained assignment using an inplace method.\n",
      "The behavior will change in pandas 3.0. This inplace method will never work because the intermediate object on which we are setting values always behaves as a copy.\n",
      "\n",
      "For example, when doing 'df[col].method(value, inplace=True)', try using 'df.method({col: value}, inplace=True)' or df[col] = df[col].method(value) instead, to perform the operation inplace on the original object.\n",
      "\n",
      "\n",
      "  df['uf'].fillna(moda[0], inplace=True)\n"
     ]
    }
   ],
   "source": [
    "moda = df['uf'].mode()\n",
    "df['uf'].fillna(moda[0], inplace=True)\n",
    "\n",
    "df.info()"
   ]
  },
  {
   "cell_type": "code",
   "execution_count": 24,
   "id": "b0883288",
   "metadata": {},
   "outputs": [
    {
     "name": "stdout",
     "output_type": "stream",
     "text": [
      "<class 'pandas.core.frame.DataFrame'>\n",
      "Index: 1917 entries, 0 to 1999\n",
      "Data columns (total 5 columns):\n",
      " #   Column        Non-Null Count  Dtype         \n",
      "---  ------        --------------  -----         \n",
      " 0   idade         1780 non-null   float64       \n",
      " 1   uf            1917 non-null   object        \n",
      " 2   renda_mensal  1917 non-null   float64       \n",
      " 3   comprou       1917 non-null   int64         \n",
      " 4   nascimento    1917 non-null   datetime64[ns]\n",
      "dtypes: datetime64[ns](1), float64(2), int64(1), object(1)\n",
      "memory usage: 89.9+ KB\n"
     ]
    },
    {
     "name": "stderr",
     "output_type": "stream",
     "text": [
      "C:\\Users\\Professor\\AppData\\Local\\Temp\\ipykernel_10092\\1074218339.py:1: FutureWarning: A value is trying to be set on a copy of a DataFrame or Series through chained assignment using an inplace method.\n",
      "The behavior will change in pandas 3.0. This inplace method will never work because the intermediate object on which we are setting values always behaves as a copy.\n",
      "\n",
      "For example, when doing 'df[col].method(value, inplace=True)', try using 'df.method({col: value}, inplace=True)' or df[col] = df[col].method(value) instead, to perform the operation inplace on the original object.\n",
      "\n",
      "\n",
      "  df['renda_mensal'].fillna(df['renda_mensal'].mean(), inplace=True)\n"
     ]
    }
   ],
   "source": [
    "df['renda_mensal'].fillna(df['renda_mensal'].mean(), inplace=True)\n",
    "\n",
    "df.info()"
   ]
  },
  {
   "cell_type": "code",
   "execution_count": 25,
   "id": "2e1b700e",
   "metadata": {},
   "outputs": [
    {
     "data": {
      "text/html": [
       "<div>\n",
       "<style scoped>\n",
       "    .dataframe tbody tr th:only-of-type {\n",
       "        vertical-align: middle;\n",
       "    }\n",
       "\n",
       "    .dataframe tbody tr th {\n",
       "        vertical-align: top;\n",
       "    }\n",
       "\n",
       "    .dataframe thead th {\n",
       "        text-align: right;\n",
       "    }\n",
       "</style>\n",
       "<table border=\"1\" class=\"dataframe\">\n",
       "  <thead>\n",
       "    <tr style=\"text-align: right;\">\n",
       "      <th></th>\n",
       "      <th>nascimento</th>\n",
       "      <th>idade</th>\n",
       "    </tr>\n",
       "  </thead>\n",
       "  <tbody>\n",
       "    <tr>\n",
       "      <th>0</th>\n",
       "      <td>1984-09-15</td>\n",
       "      <td>NaN</td>\n",
       "    </tr>\n",
       "    <tr>\n",
       "      <th>1</th>\n",
       "      <td>1978-12-01</td>\n",
       "      <td>59.0</td>\n",
       "    </tr>\n",
       "    <tr>\n",
       "      <th>2</th>\n",
       "      <td>1965-11-24</td>\n",
       "      <td>35.0</td>\n",
       "    </tr>\n",
       "    <tr>\n",
       "      <th>3</th>\n",
       "      <td>1989-01-28</td>\n",
       "      <td>70.0</td>\n",
       "    </tr>\n",
       "    <tr>\n",
       "      <th>4</th>\n",
       "      <td>1984-08-16</td>\n",
       "      <td>NaN</td>\n",
       "    </tr>\n",
       "    <tr>\n",
       "      <th>...</th>\n",
       "      <td>...</td>\n",
       "      <td>...</td>\n",
       "    </tr>\n",
       "    <tr>\n",
       "      <th>1995</th>\n",
       "      <td>1983-06-19</td>\n",
       "      <td>27.0</td>\n",
       "    </tr>\n",
       "    <tr>\n",
       "      <th>1996</th>\n",
       "      <td>1998-09-02</td>\n",
       "      <td>67.0</td>\n",
       "    </tr>\n",
       "    <tr>\n",
       "      <th>1997</th>\n",
       "      <td>1962-03-31</td>\n",
       "      <td>35.0</td>\n",
       "    </tr>\n",
       "    <tr>\n",
       "      <th>1998</th>\n",
       "      <td>1994-05-29</td>\n",
       "      <td>28.0</td>\n",
       "    </tr>\n",
       "    <tr>\n",
       "      <th>1999</th>\n",
       "      <td>1967-07-12</td>\n",
       "      <td>18.0</td>\n",
       "    </tr>\n",
       "  </tbody>\n",
       "</table>\n",
       "<p>1917 rows × 2 columns</p>\n",
       "</div>"
      ],
      "text/plain": [
       "     nascimento  idade\n",
       "0    1984-09-15    NaN\n",
       "1    1978-12-01   59.0\n",
       "2    1965-11-24   35.0\n",
       "3    1989-01-28   70.0\n",
       "4    1984-08-16    NaN\n",
       "...         ...    ...\n",
       "1995 1983-06-19   27.0\n",
       "1996 1998-09-02   67.0\n",
       "1997 1962-03-31   35.0\n",
       "1998 1994-05-29   28.0\n",
       "1999 1967-07-12   18.0\n",
       "\n",
       "[1917 rows x 2 columns]"
      ]
     },
     "execution_count": 25,
     "metadata": {},
     "output_type": "execute_result"
    }
   ],
   "source": [
    "df[['nascimento', 'idade']]"
   ]
  },
  {
   "cell_type": "code",
   "execution_count": 26,
   "id": "366791b0",
   "metadata": {},
   "outputs": [],
   "source": [
    "import datetime"
   ]
  },
  {
   "cell_type": "code",
   "execution_count": 29,
   "id": "bf663eb2",
   "metadata": {},
   "outputs": [
    {
     "data": {
      "text/html": [
       "<div>\n",
       "<style scoped>\n",
       "    .dataframe tbody tr th:only-of-type {\n",
       "        vertical-align: middle;\n",
       "    }\n",
       "\n",
       "    .dataframe tbody tr th {\n",
       "        vertical-align: top;\n",
       "    }\n",
       "\n",
       "    .dataframe thead th {\n",
       "        text-align: right;\n",
       "    }\n",
       "</style>\n",
       "<table border=\"1\" class=\"dataframe\">\n",
       "  <thead>\n",
       "    <tr style=\"text-align: right;\">\n",
       "      <th></th>\n",
       "      <th>idade</th>\n",
       "      <th>uf</th>\n",
       "      <th>renda_mensal</th>\n",
       "      <th>comprou</th>\n",
       "      <th>nascimento</th>\n",
       "      <th>calc_idade</th>\n",
       "    </tr>\n",
       "  </thead>\n",
       "  <tbody>\n",
       "    <tr>\n",
       "      <th>0</th>\n",
       "      <td>NaN</td>\n",
       "      <td>RJ</td>\n",
       "      <td>7997.185158</td>\n",
       "      <td>1</td>\n",
       "      <td>1984-09-15</td>\n",
       "      <td>41.0</td>\n",
       "    </tr>\n",
       "    <tr>\n",
       "      <th>1</th>\n",
       "      <td>59.0</td>\n",
       "      <td>SC</td>\n",
       "      <td>5587.730000</td>\n",
       "      <td>0</td>\n",
       "      <td>1978-12-01</td>\n",
       "      <td>46.0</td>\n",
       "    </tr>\n",
       "    <tr>\n",
       "      <th>2</th>\n",
       "      <td>35.0</td>\n",
       "      <td>MG</td>\n",
       "      <td>4574.790000</td>\n",
       "      <td>0</td>\n",
       "      <td>1965-11-24</td>\n",
       "      <td>59.0</td>\n",
       "    </tr>\n",
       "    <tr>\n",
       "      <th>3</th>\n",
       "      <td>70.0</td>\n",
       "      <td>MG</td>\n",
       "      <td>9305.100000</td>\n",
       "      <td>0</td>\n",
       "      <td>1989-01-28</td>\n",
       "      <td>36.0</td>\n",
       "    </tr>\n",
       "    <tr>\n",
       "      <th>4</th>\n",
       "      <td>NaN</td>\n",
       "      <td>SP</td>\n",
       "      <td>5721.990000</td>\n",
       "      <td>0</td>\n",
       "      <td>1984-08-16</td>\n",
       "      <td>41.0</td>\n",
       "    </tr>\n",
       "    <tr>\n",
       "      <th>...</th>\n",
       "      <td>...</td>\n",
       "      <td>...</td>\n",
       "      <td>...</td>\n",
       "      <td>...</td>\n",
       "      <td>...</td>\n",
       "      <td>...</td>\n",
       "    </tr>\n",
       "    <tr>\n",
       "      <th>1995</th>\n",
       "      <td>27.0</td>\n",
       "      <td>SP</td>\n",
       "      <td>11010.540000</td>\n",
       "      <td>1</td>\n",
       "      <td>1983-06-19</td>\n",
       "      <td>42.0</td>\n",
       "    </tr>\n",
       "    <tr>\n",
       "      <th>1996</th>\n",
       "      <td>67.0</td>\n",
       "      <td>BA</td>\n",
       "      <td>5494.280000</td>\n",
       "      <td>1</td>\n",
       "      <td>1998-09-02</td>\n",
       "      <td>27.0</td>\n",
       "    </tr>\n",
       "    <tr>\n",
       "      <th>1997</th>\n",
       "      <td>35.0</td>\n",
       "      <td>SP</td>\n",
       "      <td>2253.630000</td>\n",
       "      <td>0</td>\n",
       "      <td>1962-03-31</td>\n",
       "      <td>63.0</td>\n",
       "    </tr>\n",
       "    <tr>\n",
       "      <th>1998</th>\n",
       "      <td>28.0</td>\n",
       "      <td>RS</td>\n",
       "      <td>7870.880000</td>\n",
       "      <td>1</td>\n",
       "      <td>1994-05-29</td>\n",
       "      <td>31.0</td>\n",
       "    </tr>\n",
       "    <tr>\n",
       "      <th>1999</th>\n",
       "      <td>18.0</td>\n",
       "      <td>BA</td>\n",
       "      <td>10881.540000</td>\n",
       "      <td>1</td>\n",
       "      <td>1967-07-12</td>\n",
       "      <td>58.0</td>\n",
       "    </tr>\n",
       "  </tbody>\n",
       "</table>\n",
       "<p>1917 rows × 6 columns</p>\n",
       "</div>"
      ],
      "text/plain": [
       "      idade  uf  renda_mensal  comprou nascimento  calc_idade\n",
       "0       NaN  RJ   7997.185158        1 1984-09-15        41.0\n",
       "1      59.0  SC   5587.730000        0 1978-12-01        46.0\n",
       "2      35.0  MG   4574.790000        0 1965-11-24        59.0\n",
       "3      70.0  MG   9305.100000        0 1989-01-28        36.0\n",
       "4       NaN  SP   5721.990000        0 1984-08-16        41.0\n",
       "...     ...  ..           ...      ...        ...         ...\n",
       "1995   27.0  SP  11010.540000        1 1983-06-19        42.0\n",
       "1996   67.0  BA   5494.280000        1 1998-09-02        27.0\n",
       "1997   35.0  SP   2253.630000        0 1962-03-31        63.0\n",
       "1998   28.0  RS   7870.880000        1 1994-05-29        31.0\n",
       "1999   18.0  BA  10881.540000        1 1967-07-12        58.0\n",
       "\n",
       "[1917 rows x 6 columns]"
      ]
     },
     "execution_count": 29,
     "metadata": {},
     "output_type": "execute_result"
    }
   ],
   "source": [
    "hoje = pd.to_datetime('today')\n",
    "\n",
    "df['calc_idade'] = (round((hoje - df['nascimento']).dt.days /365))\n",
    "\n",
    "df"
   ]
  }
 ],
 "metadata": {
  "kernelspec": {
   "display_name": ".venv",
   "language": "python",
   "name": "python3"
  },
  "language_info": {
   "codemirror_mode": {
    "name": "ipython",
    "version": 3
   },
   "file_extension": ".py",
   "mimetype": "text/x-python",
   "name": "python",
   "nbconvert_exporter": "python",
   "pygments_lexer": "ipython3",
   "version": "3.13.2"
  }
 },
 "nbformat": 4,
 "nbformat_minor": 5
}
