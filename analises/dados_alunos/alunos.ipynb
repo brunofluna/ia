{
 "cells": [
  {
   "cell_type": "markdown",
   "id": "525ce4c1",
   "metadata": {},
   "source": [
    "# Análise de cursos de uma faculdade.\n"
   ]
  },
  {
   "cell_type": "code",
   "execution_count": 11,
   "id": "05e16877",
   "metadata": {},
   "outputs": [],
   "source": [
    "# importando as bibliotecas a serem usadas\n",
    "import pandas as pd\n",
    "import matplotlib.pyplot as plt\n",
    "\n",
    "# lê o arquivo do df =  dataframe e atribui na variável\n",
    "df = pd.read_csv('dados_alunos.csv')\n",
    "\n",
    "\n"
   ]
  },
  {
   "cell_type": "code",
   "execution_count": 12,
   "id": "647dacad",
   "metadata": {},
   "outputs": [
    {
     "data": {
      "text/html": [
       "<div>\n",
       "<style scoped>\n",
       "    .dataframe tbody tr th:only-of-type {\n",
       "        vertical-align: middle;\n",
       "    }\n",
       "\n",
       "    .dataframe tbody tr th {\n",
       "        vertical-align: top;\n",
       "    }\n",
       "\n",
       "    .dataframe thead th {\n",
       "        text-align: right;\n",
       "    }\n",
       "</style>\n",
       "<table border=\"1\" class=\"dataframe\">\n",
       "  <thead>\n",
       "    <tr style=\"text-align: right;\">\n",
       "      <th></th>\n",
       "      <th>nome</th>\n",
       "      <th>idade</th>\n",
       "      <th>genero</th>\n",
       "      <th>curso</th>\n",
       "      <th>semestre</th>\n",
       "      <th>nota_final</th>\n",
       "      <th>faltas</th>\n",
       "    </tr>\n",
       "  </thead>\n",
       "  <tbody>\n",
       "    <tr>\n",
       "      <th>0</th>\n",
       "      <td>Fernanda</td>\n",
       "      <td>22</td>\n",
       "      <td>F</td>\n",
       "      <td>Engenharia</td>\n",
       "      <td>7</td>\n",
       "      <td>8.85</td>\n",
       "      <td>21</td>\n",
       "    </tr>\n",
       "    <tr>\n",
       "      <th>1</th>\n",
       "      <td>Eduardo</td>\n",
       "      <td>28</td>\n",
       "      <td>M</td>\n",
       "      <td>ADS</td>\n",
       "      <td>1</td>\n",
       "      <td>6.49</td>\n",
       "      <td>9</td>\n",
       "    </tr>\n",
       "    <tr>\n",
       "      <th>2</th>\n",
       "      <td>Igor</td>\n",
       "      <td>24</td>\n",
       "      <td>M</td>\n",
       "      <td>Arquitetura</td>\n",
       "      <td>3</td>\n",
       "      <td>5.85</td>\n",
       "      <td>8</td>\n",
       "    </tr>\n",
       "    <tr>\n",
       "      <th>3</th>\n",
       "      <td>Igor</td>\n",
       "      <td>29</td>\n",
       "      <td>F</td>\n",
       "      <td>Arquitetura</td>\n",
       "      <td>10</td>\n",
       "      <td>5.65</td>\n",
       "      <td>7</td>\n",
       "    </tr>\n",
       "    <tr>\n",
       "      <th>4</th>\n",
       "      <td>Bruno</td>\n",
       "      <td>28</td>\n",
       "      <td>M</td>\n",
       "      <td>Arquitetura</td>\n",
       "      <td>7</td>\n",
       "      <td>8.64</td>\n",
       "      <td>5</td>\n",
       "    </tr>\n",
       "  </tbody>\n",
       "</table>\n",
       "</div>"
      ],
      "text/plain": [
       "       nome  idade genero        curso  semestre  nota_final  faltas\n",
       "0  Fernanda     22      F   Engenharia         7        8.85      21\n",
       "1   Eduardo     28      M          ADS         1        6.49       9\n",
       "2      Igor     24      M  Arquitetura         3        5.85       8\n",
       "3      Igor     29      F  Arquitetura        10        5.65       7\n",
       "4     Bruno     28      M  Arquitetura         7        8.64       5"
      ]
     },
     "execution_count": 12,
     "metadata": {},
     "output_type": "execute_result"
    }
   ],
   "source": [
    "# mostra o início da tabela ou dataframe\n",
    "df.head()\n"
   ]
  },
  {
   "cell_type": "code",
   "execution_count": 13,
   "id": "917bc55d",
   "metadata": {},
   "outputs": [
    {
     "data": {
      "text/html": [
       "<div>\n",
       "<style scoped>\n",
       "    .dataframe tbody tr th:only-of-type {\n",
       "        vertical-align: middle;\n",
       "    }\n",
       "\n",
       "    .dataframe tbody tr th {\n",
       "        vertical-align: top;\n",
       "    }\n",
       "\n",
       "    .dataframe thead th {\n",
       "        text-align: right;\n",
       "    }\n",
       "</style>\n",
       "<table border=\"1\" class=\"dataframe\">\n",
       "  <thead>\n",
       "    <tr style=\"text-align: right;\">\n",
       "      <th></th>\n",
       "      <th>nome</th>\n",
       "      <th>idade</th>\n",
       "      <th>genero</th>\n",
       "      <th>curso</th>\n",
       "      <th>semestre</th>\n",
       "      <th>nota_final</th>\n",
       "      <th>faltas</th>\n",
       "    </tr>\n",
       "  </thead>\n",
       "  <tbody>\n",
       "    <tr>\n",
       "      <th>95</th>\n",
       "      <td>Helena</td>\n",
       "      <td>26</td>\n",
       "      <td>M</td>\n",
       "      <td>ADS</td>\n",
       "      <td>2</td>\n",
       "      <td>6.65</td>\n",
       "      <td>21</td>\n",
       "    </tr>\n",
       "    <tr>\n",
       "      <th>96</th>\n",
       "      <td>Carlos</td>\n",
       "      <td>20</td>\n",
       "      <td>F</td>\n",
       "      <td>Engenharia</td>\n",
       "      <td>8</td>\n",
       "      <td>9.33</td>\n",
       "      <td>24</td>\n",
       "    </tr>\n",
       "    <tr>\n",
       "      <th>97</th>\n",
       "      <td>Diana</td>\n",
       "      <td>27</td>\n",
       "      <td>M</td>\n",
       "      <td>Direito</td>\n",
       "      <td>1</td>\n",
       "      <td>9.31</td>\n",
       "      <td>17</td>\n",
       "    </tr>\n",
       "    <tr>\n",
       "      <th>98</th>\n",
       "      <td>Igor</td>\n",
       "      <td>27</td>\n",
       "      <td>F</td>\n",
       "      <td>Medicina</td>\n",
       "      <td>9</td>\n",
       "      <td>8.88</td>\n",
       "      <td>17</td>\n",
       "    </tr>\n",
       "    <tr>\n",
       "      <th>99</th>\n",
       "      <td>Carlos</td>\n",
       "      <td>22</td>\n",
       "      <td>F</td>\n",
       "      <td>Medicina</td>\n",
       "      <td>8</td>\n",
       "      <td>9.75</td>\n",
       "      <td>21</td>\n",
       "    </tr>\n",
       "  </tbody>\n",
       "</table>\n",
       "</div>"
      ],
      "text/plain": [
       "      nome  idade genero       curso  semestre  nota_final  faltas\n",
       "95  Helena     26      M         ADS         2        6.65      21\n",
       "96  Carlos     20      F  Engenharia         8        9.33      24\n",
       "97   Diana     27      M     Direito         1        9.31      17\n",
       "98    Igor     27      F    Medicina         9        8.88      17\n",
       "99  Carlos     22      F    Medicina         8        9.75      21"
      ]
     },
     "execution_count": 13,
     "metadata": {},
     "output_type": "execute_result"
    }
   ],
   "source": [
    "# mostra o final da tabela ou do dataframe\n",
    "df.tail()\n"
   ]
  },
  {
   "cell_type": "code",
   "execution_count": 14,
   "id": "daa458d1",
   "metadata": {},
   "outputs": [
    {
     "data": {
      "text/plain": [
       "(100, 7)"
      ]
     },
     "execution_count": 14,
     "metadata": {},
     "output_type": "execute_result"
    }
   ],
   "source": [
    "# numero de colunas e registros\n",
    "df.shape"
   ]
  },
  {
   "cell_type": "code",
   "execution_count": 15,
   "id": "1826fa9f",
   "metadata": {},
   "outputs": [
    {
     "name": "stdout",
     "output_type": "stream",
     "text": [
      "<class 'pandas.core.frame.DataFrame'>\n",
      "RangeIndex: 100 entries, 0 to 99\n",
      "Data columns (total 7 columns):\n",
      " #   Column      Non-Null Count  Dtype  \n",
      "---  ------      --------------  -----  \n",
      " 0   nome        100 non-null    object \n",
      " 1   idade       100 non-null    int64  \n",
      " 2   genero      100 non-null    object \n",
      " 3   curso       100 non-null    object \n",
      " 4   semestre    100 non-null    int64  \n",
      " 5   nota_final  100 non-null    float64\n",
      " 6   faltas      100 non-null    int64  \n",
      "dtypes: float64(1), int64(3), object(3)\n",
      "memory usage: 5.6+ KB\n"
     ]
    }
   ],
   "source": [
    "#quantidade de valores não nulos, tipos, e o nome individual de cada coluna, contagem de dtype(tipo de dados, inteiros, float  etc)\n",
    "df.info()\n"
   ]
  },
  {
   "cell_type": "code",
   "execution_count": 16,
   "id": "ca5781f4",
   "metadata": {},
   "outputs": [
    {
     "data": {
      "text/html": [
       "<div>\n",
       "<style scoped>\n",
       "    .dataframe tbody tr th:only-of-type {\n",
       "        vertical-align: middle;\n",
       "    }\n",
       "\n",
       "    .dataframe tbody tr th {\n",
       "        vertical-align: top;\n",
       "    }\n",
       "\n",
       "    .dataframe thead th {\n",
       "        text-align: right;\n",
       "    }\n",
       "</style>\n",
       "<table border=\"1\" class=\"dataframe\">\n",
       "  <thead>\n",
       "    <tr style=\"text-align: right;\">\n",
       "      <th></th>\n",
       "      <th>idade</th>\n",
       "      <th>semestre</th>\n",
       "      <th>nota_final</th>\n",
       "      <th>faltas</th>\n",
       "    </tr>\n",
       "  </thead>\n",
       "  <tbody>\n",
       "    <tr>\n",
       "      <th>count</th>\n",
       "      <td>100.000000</td>\n",
       "      <td>100.000000</td>\n",
       "      <td>100.000000</td>\n",
       "      <td>100.000000</td>\n",
       "    </tr>\n",
       "    <tr>\n",
       "      <th>mean</th>\n",
       "      <td>26.130000</td>\n",
       "      <td>5.880000</td>\n",
       "      <td>7.546800</td>\n",
       "      <td>15.000000</td>\n",
       "    </tr>\n",
       "    <tr>\n",
       "      <th>std</th>\n",
       "      <td>4.871386</td>\n",
       "      <td>2.985757</td>\n",
       "      <td>1.547776</td>\n",
       "      <td>9.222283</td>\n",
       "    </tr>\n",
       "    <tr>\n",
       "      <th>min</th>\n",
       "      <td>18.000000</td>\n",
       "      <td>1.000000</td>\n",
       "      <td>5.000000</td>\n",
       "      <td>0.000000</td>\n",
       "    </tr>\n",
       "    <tr>\n",
       "      <th>25%</th>\n",
       "      <td>22.000000</td>\n",
       "      <td>3.000000</td>\n",
       "      <td>6.060000</td>\n",
       "      <td>7.000000</td>\n",
       "    </tr>\n",
       "    <tr>\n",
       "      <th>50%</th>\n",
       "      <td>26.000000</td>\n",
       "      <td>6.000000</td>\n",
       "      <td>7.980000</td>\n",
       "      <td>14.000000</td>\n",
       "    </tr>\n",
       "    <tr>\n",
       "      <th>75%</th>\n",
       "      <td>30.000000</td>\n",
       "      <td>8.000000</td>\n",
       "      <td>8.872500</td>\n",
       "      <td>24.000000</td>\n",
       "    </tr>\n",
       "    <tr>\n",
       "      <th>max</th>\n",
       "      <td>35.000000</td>\n",
       "      <td>10.000000</td>\n",
       "      <td>9.980000</td>\n",
       "      <td>30.000000</td>\n",
       "    </tr>\n",
       "  </tbody>\n",
       "</table>\n",
       "</div>"
      ],
      "text/plain": [
       "            idade    semestre  nota_final      faltas\n",
       "count  100.000000  100.000000  100.000000  100.000000\n",
       "mean    26.130000    5.880000    7.546800   15.000000\n",
       "std      4.871386    2.985757    1.547776    9.222283\n",
       "min     18.000000    1.000000    5.000000    0.000000\n",
       "25%     22.000000    3.000000    6.060000    7.000000\n",
       "50%     26.000000    6.000000    7.980000   14.000000\n",
       "75%     30.000000    8.000000    8.872500   24.000000\n",
       "max     35.000000   10.000000    9.980000   30.000000"
      ]
     },
     "execution_count": 16,
     "metadata": {},
     "output_type": "execute_result"
    }
   ],
   "source": [
    "#  principais parametros estatisticos\n",
    "df.describe()\n"
   ]
  },
  {
   "cell_type": "code",
   "execution_count": 17,
   "id": "841030b0",
   "metadata": {},
   "outputs": [
    {
     "data": {
      "text/html": [
       "<div>\n",
       "<style scoped>\n",
       "    .dataframe tbody tr th:only-of-type {\n",
       "        vertical-align: middle;\n",
       "    }\n",
       "\n",
       "    .dataframe tbody tr th {\n",
       "        vertical-align: top;\n",
       "    }\n",
       "\n",
       "    .dataframe thead th {\n",
       "        text-align: right;\n",
       "    }\n",
       "</style>\n",
       "<table border=\"1\" class=\"dataframe\">\n",
       "  <thead>\n",
       "    <tr style=\"text-align: right;\">\n",
       "      <th></th>\n",
       "      <th>nome</th>\n",
       "      <th>genero</th>\n",
       "      <th>curso</th>\n",
       "    </tr>\n",
       "  </thead>\n",
       "  <tbody>\n",
       "    <tr>\n",
       "      <th>count</th>\n",
       "      <td>100</td>\n",
       "      <td>100</td>\n",
       "      <td>100</td>\n",
       "    </tr>\n",
       "    <tr>\n",
       "      <th>unique</th>\n",
       "      <td>10</td>\n",
       "      <td>2</td>\n",
       "      <td>5</td>\n",
       "    </tr>\n",
       "    <tr>\n",
       "      <th>top</th>\n",
       "      <td>Diana</td>\n",
       "      <td>F</td>\n",
       "      <td>ADS</td>\n",
       "    </tr>\n",
       "    <tr>\n",
       "      <th>freq</th>\n",
       "      <td>16</td>\n",
       "      <td>64</td>\n",
       "      <td>26</td>\n",
       "    </tr>\n",
       "  </tbody>\n",
       "</table>\n",
       "</div>"
      ],
      "text/plain": [
       "         nome genero curso\n",
       "count     100    100   100\n",
       "unique     10      2     5\n",
       "top     Diana      F   ADS\n",
       "freq       16     64    26"
      ]
     },
     "execution_count": 17,
     "metadata": {},
     "output_type": "execute_result"
    }
   ],
   "source": [
    "# \n",
    "df.describe(include='object')"
   ]
  },
  {
   "cell_type": "code",
   "execution_count": 18,
   "id": "9c5d723c",
   "metadata": {},
   "outputs": [
    {
     "data": {
      "text/plain": [
       "<bound method IndexOpsMixin.value_counts of 0     Fernanda\n",
       "1      Eduardo\n",
       "2         Igor\n",
       "3         Igor\n",
       "4        Bruno\n",
       "        ...   \n",
       "95      Helena\n",
       "96      Carlos\n",
       "97       Diana\n",
       "98        Igor\n",
       "99      Carlos\n",
       "Name: nome, Length: 100, dtype: object>"
      ]
     },
     "execution_count": 18,
     "metadata": {},
     "output_type": "execute_result"
    }
   ],
   "source": [
    "df['nome'].value_counts\n"
   ]
  },
  {
   "cell_type": "code",
   "execution_count": 19,
   "id": "4f54003e",
   "metadata": {},
   "outputs": [
    {
     "data": {
      "image/png": "[encoded data removed]",
      "text/plain": [
       "<Figure size 640x480 with 1 Axes>"
      ]
     },
     "metadata": {},
     "output_type": "display_data"
    }
   ],
   "source": [
    "contagem_genero = df['genero'].value_counts()\n",
    "\n",
    "plt.bar(contagem_genero.index, contagem_genero.values)\n",
    "\n",
    "plt.xticks(rotation=45)\n",
    "plt.show()\n"
   ]
  },
  {
   "cell_type": "code",
   "execution_count": 20,
   "id": "d5a62d89",
   "metadata": {},
   "outputs": [
    {
     "data": {
      "image/png": "[encoded data removed]",
      "text/plain": [
       "<Figure size 640x480 with 1 Axes>"
      ]
     },
     "metadata": {},
     "output_type": "display_data"
    }
   ],
   "source": [
    "contagem_nome = df['nome'].value_counts()\n",
    "\n",
    "plt.bar(contagem_nome.index, contagem_nome.values)\n",
    "\n",
    "\n",
    "plt.show()\n"
   ]
  },
  {
   "cell_type": "code",
   "execution_count": 21,
   "id": "1e556510",
   "metadata": {},
   "outputs": [
    {
     "data": {
      "image/png": "[encoded data removed]",
      "text/plain": [
       "<Figure size 640x480 with 1 Axes>"
      ]
     },
     "metadata": {},
     "output_type": "display_data"
    }
   ],
   "source": [
    "cursos_qtd = df['curso'].value_counts()\n",
    "plt.bar(cursos_qtd.index, cursos_qtd.values)\n",
    "\n",
    "plt.show()\n"
   ]
  },
  {
   "cell_type": "markdown",
   "id": "97da5827",
   "metadata": {},
   "source": [
    "# Atividade\n",
    "- Nota média por curso\n",
    "- Quantidade de alunos homens e mulheres por curso\n",
    "- Nota média dos homens e das mulheres\n",
    "- Média de semestre por curso\n",
    "- média de idade por curso\n",
    "- Média de idade por semestre\n"
   ]
  },
  {
   "cell_type": "code",
   "execution_count": null,
   "id": "ee8f7695",
   "metadata": {},
   "outputs": [
    {
     "data": {
      "image/png": "[encoded data removed]",
      "text/plain": [
       "<Figure size 640x480 with 1 Axes>"
      ]
     },
     "metadata": {},
     "output_type": "display_data"
    }
   ],
   "source": [
    "# Nota média por curso\n",
    "media_nota = df['nota_final'].mean()\n",
    "cursos = df['curso']\n",
    "for media_curso in media_cursos \n",
    "plt.bar(cursos, media_nota)\n",
    "\n",
    "plt.show()\n"
   ]
  },
  {
   "cell_type": "code",
   "execution_count": null,
   "id": "b6744e31",
   "metadata": {},
   "outputs": [
    {
     "name": "stdout",
     "output_type": "stream",
     "text": [
      "<class 'pandas.core.series.Series'>\n",
      "Index: 2 entries, F to M\n",
      "Series name: proportion\n",
      "Non-Null Count  Dtype  \n",
      "--------------  -----  \n",
      "2 non-null      float64\n",
      "dtypes: float64(1)\n",
      "memory usage: 32.0+ bytes\n"
     ]
    },
    {
     "data": {
      "text/plain": [
       "genero\n",
       "F    0.64\n",
       "M    0.36\n",
       "Name: proportion, dtype: float64"
      ]
     },
     "metadata": {},
     "output_type": "display_data"
    }
   ],
   "source": [
    "# Quantidade de alunos homens e mulheres por curso\n",
    "from operator import index\n",
    "\n",
    "\n",
    "qtd_por_gen = df['genero'].value_counts()\n",
    "qtd_por_gen.info()\n",
    "\n",
    "display(qtd_por_gen)\n"
   ]
  },
  {
   "cell_type": "code",
   "execution_count": null,
   "id": "5b56e1b4",
   "metadata": {},
   "outputs": [],
   "source": []
  }
 ],
 "metadata": {
  "kernelspec": {
   "display_name": ".venv (3.12.10)",
   "language": "python",
   "name": "python3"
  },
  "language_info": {
   "codemirror_mode": {
    "name": "ipython",
    "version": 3
   },
   "file_extension": ".py",
   "mimetype": "text/x-python",
   "name": "python",
   "nbconvert_exporter": "python",
   "pygments_lexer": "ipython3",
   "version": "3.12.10"
  }
 },
 "nbformat": 4,
 "nbformat_minor": 5
}
